{
 "cells": [
  {
   "cell_type": "code",
   "execution_count": 32,
   "metadata": {},
   "outputs": [
    {
     "data": {
      "text/html": [
       "<style>.container { width:100% !important; }</style>"
      ],
      "text/plain": [
       "<IPython.core.display.HTML object>"
      ]
     },
     "metadata": {},
     "output_type": "display_data"
    }
   ],
   "source": [
    "%matplotlib inline\n",
    "#computation\n",
    "import numpy as np\n",
    "import warnings\n",
    "warnings.simplefilter(action='ignore', category=FutureWarning)\n",
    "\n",
    "import pandas as pd\n",
    "\n",
    "#plotting\n",
    "import matplotlib.pyplot as pl\n",
    "import seaborn as sns\n",
    "sns.set_style(\"ticks\", {'axes.grid' : True})\n",
    "# pl.rc(\"figure\", facecolor=\"white\",figsize = (3,2))\n",
    "pl.rc(\"figure\", facecolor=\"gray\",figsize = (8,8))\n",
    "\n",
    "pl.rc('text', usetex=True)\n",
    "pl.rc('text.latex', preamble=[r'\\usepackage{amsmath}'])\n",
    "pl.rc('lines',markeredgewidth = 2)\n",
    "pl.rc('font',size = 12)\n",
    "# params= {'text.latex.preamble' : [r'\\usepackage{amsmath}']}\n",
    "# pyplot.rcParams.update(params)\n",
    "\n",
    "#utils\n",
    "# import time\n",
    "# from copy import deepcopy\n",
    "# from functools import partial\n",
    "# import itertools\n",
    "# from importlib import reload\n",
    "\n",
    "#notebook config\n",
    "from IPython.core.display import display, HTML\n",
    "display(HTML(\"<style>.container { width:100% !important; }</style>\"))\n",
    "from IPython.display import Math\n",
    "\n",
    "from itertools import product\n",
    "from scipy import special"
   ]
  },
  {
   "cell_type": "code",
   "execution_count": 2,
   "metadata": {},
   "outputs": [],
   "source": [
    "import scipy.io as spio\n",
    "mat = spio.loadmat('../data/both_monkeys_lip_nocon.mat', squeeze_me=True)"
   ]
  },
  {
   "cell_type": "code",
   "execution_count": 3,
   "metadata": {},
   "outputs": [
    {
     "data": {
      "text/plain": [
       "('date',\n",
       " 'dots2',\n",
       " 'dots4',\n",
       " 'memory',\n",
       " 'overlap',\n",
       " 'depth',\n",
       " 'dots8',\n",
       " 'prefdir',\n",
       " 'whichunit',\n",
       " 'complete',\n",
       " 'prefire',\n",
       " 'iscomplete',\n",
       " 'location',\n",
       " 'angcont',\n",
       " 'dots8_partial',\n",
       " 'prefire_time',\n",
       " 'dotfire',\n",
       " 'sacfire',\n",
       " 'sacfireNULL',\n",
       " 'dotfireNULL',\n",
       " 'sacfirert',\n",
       " 'dotfirert',\n",
       " 'sacfireRT_NULL',\n",
       " 'dotfireRT_NULL',\n",
       " 'dotfirertNULL',\n",
       " 'sacfirertNULL',\n",
       " 'anglecontrol',\n",
       " 'otherdirs',\n",
       " 'allnums',\n",
       " 'newit',\n",
       " 'rts',\n",
       " 'anglecontrol45',\n",
       " 'monkey',\n",
       " 'plx_new')"
      ]
     },
     "execution_count": 3,
     "metadata": {},
     "output_type": "execute_result"
    }
   ],
   "source": [
    "mat['both_monkeys_lip_nocon'].flatten().dtype.names"
   ]
  },
  {
   "cell_type": "markdown",
   "metadata": {},
   "source": [
    "example micro structure"
   ]
  },
  {
   "cell_type": "code",
   "execution_count": 4,
   "metadata": {},
   "outputs": [
    {
     "data": {
      "text/plain": [
       "('targtodots',\n",
       " 'targ',\n",
       " 'rt',\n",
       " 'dots',\n",
       " 'sacc',\n",
       " 'coh',\n",
       " 'dir',\n",
       " 'numtargs',\n",
       " 'choice',\n",
       " 'score')"
      ]
     },
     "execution_count": 4,
     "metadata": {},
     "output_type": "execute_result"
    }
   ],
   "source": [
    "mat['both_monkeys_lip_nocon'][0]['allnums'][1]['data'][0]['dotfire_time'][0]['spiketimes'][0].dtype.names"
   ]
  },
  {
   "cell_type": "code",
   "execution_count": 5,
   "metadata": {
    "scrolled": false
   },
   "outputs": [
    {
     "data": {
      "text/plain": [
       "[497.1750000000029,\n",
       " array([-632.325, -546.675, -465.9  , -184.8  , -159.25 , -124.4  ,\n",
       "        -114.675, -105.825,  -12.4  ,   44.825,   73.025,  104.825,\n",
       "         131.775,  205.65 ,  291.7  ,  319.05 ,  330.375,  346.75 ,\n",
       "         366.95 ,  376.65 ,  419.6  ]),\n",
       " 720.5500000000029,\n",
       " array([-1129.5  , -1043.85 ,  -963.075,  -681.975,  -656.425,  -621.575,\n",
       "         -611.85 ,  -603.   ,  -509.575,  -452.35 ,  -424.15 ,  -392.35 ,\n",
       "         -365.4  ,  -291.525,  -205.475,  -178.125,  -166.8  ,  -150.425,\n",
       "         -130.225,  -120.525,   -77.575,    79.85 ,    93.8  ,   100.7  ,\n",
       "          109.6  ,   116.675,   150.45 ,   268.775,   316.4  ,   380.925,\n",
       "          390.95 ,   429.125,   465.   ,   576.05 ,   659.05 ,   665.85 ,\n",
       "          703.875,   735.125,   741.525,   766.975,   888.1  ]),\n",
       " array([-1850.05 , -1764.4  , -1683.625, -1402.525, -1376.975, -1342.125,\n",
       "        -1332.4  , -1323.55 , -1230.125, -1172.9  , -1144.7  , -1112.9  ,\n",
       "        -1085.95 , -1012.075,  -926.025,  -898.675,  -887.35 ,  -870.975,\n",
       "         -850.775,  -841.075,  -798.125,  -640.7  ,  -626.75 ,  -619.85 ,\n",
       "         -610.95 ,  -603.875,  -570.1  ,  -451.775,  -404.15 ,  -339.625,\n",
       "         -329.6  ,  -291.425,  -255.55 ,  -144.5  ,   -61.5  ,   -54.7  ,\n",
       "          -16.675,    14.575,    20.975,    46.425,   167.55 ]),\n",
       " 0,\n",
       " 135,\n",
       " 2,\n",
       " 135,\n",
       " 2]"
      ]
     },
     "execution_count": 5,
     "metadata": {},
     "output_type": "execute_result"
    }
   ],
   "source": [
    "list(mat['both_monkeys_lip_nocon'][0]['allnums'][1]['data'][0]['dotfire_time'][0]['spiketimes'][0].tolist())"
   ]
  },
  {
   "cell_type": "markdown",
   "metadata": {},
   "source": [
    "convert to dataframe"
   ]
  },
  {
   "cell_type": "code",
   "execution_count": 6,
   "metadata": {
    "scrolled": true
   },
   "outputs": [
    {
     "data": {
      "text/html": [
       "<div>\n",
       "<style scoped>\n",
       "    .dataframe tbody tr th:only-of-type {\n",
       "        vertical-align: middle;\n",
       "    }\n",
       "\n",
       "    .dataframe tbody tr th {\n",
       "        vertical-align: top;\n",
       "    }\n",
       "\n",
       "    .dataframe thead th {\n",
       "        text-align: right;\n",
       "    }\n",
       "</style>\n",
       "<table border=\"1\" class=\"dataframe\">\n",
       "  <thead>\n",
       "    <tr style=\"text-align: right;\">\n",
       "      <th></th>\n",
       "      <th>date</th>\n",
       "      <th>dots2</th>\n",
       "      <th>dots4</th>\n",
       "      <th>memory</th>\n",
       "      <th>overlap</th>\n",
       "      <th>depth</th>\n",
       "      <th>dots8</th>\n",
       "      <th>prefdir</th>\n",
       "      <th>whichunit</th>\n",
       "      <th>complete</th>\n",
       "      <th>...</th>\n",
       "      <th>dotfirertNULL</th>\n",
       "      <th>sacfirertNULL</th>\n",
       "      <th>anglecontrol</th>\n",
       "      <th>otherdirs</th>\n",
       "      <th>allnums</th>\n",
       "      <th>newit</th>\n",
       "      <th>rts</th>\n",
       "      <th>anglecontrol45</th>\n",
       "      <th>monkey</th>\n",
       "      <th>plx_new</th>\n",
       "    </tr>\n",
       "  </thead>\n",
       "  <tbody>\n",
       "    <tr>\n",
       "      <th>0</th>\n",
       "      <td>012605</td>\n",
       "      <td>2-4_2</td>\n",
       "      <td>2-4_2</td>\n",
       "      <td>memory_2</td>\n",
       "      <td>overlap_2</td>\n",
       "      <td>9999999</td>\n",
       "      <td>[]</td>\n",
       "      <td>135</td>\n",
       "      <td>1</td>\n",
       "      <td>1</td>\n",
       "      <td>...</td>\n",
       "      <td>[]</td>\n",
       "      <td>[]</td>\n",
       "      <td>[]</td>\n",
       "      <td>[]</td>\n",
       "      <td>[[[], []], [[(array([[  0.        ,  11.292189...</td>\n",
       "      <td>[]</td>\n",
       "      <td>[[[]], [[[  0.         714.71036585  23.430024...</td>\n",
       "      <td>[]</td>\n",
       "      <td>1</td>\n",
       "      <td>0</td>\n",
       "    </tr>\n",
       "    <tr>\n",
       "      <th>1</th>\n",
       "      <td>012505</td>\n",
       "      <td>2-4_2</td>\n",
       "      <td>2-4_2</td>\n",
       "      <td>memory_2</td>\n",
       "      <td>overlap_2</td>\n",
       "      <td>3250</td>\n",
       "      <td>8_2</td>\n",
       "      <td>100</td>\n",
       "      <td>1</td>\n",
       "      <td>1</td>\n",
       "      <td>...</td>\n",
       "      <td>[]</td>\n",
       "      <td>[]</td>\n",
       "      <td>[]</td>\n",
       "      <td>[]</td>\n",
       "      <td>[[[], []], [[(array([[  0.        ,   3.966298...</td>\n",
       "      <td>[]</td>\n",
       "      <td>[[[]], [[[  0.         677.04886364  33.717126...</td>\n",
       "      <td>[]</td>\n",
       "      <td>[]</td>\n",
       "      <td>1</td>\n",
       "    </tr>\n",
       "    <tr>\n",
       "      <th>2</th>\n",
       "      <td>020105</td>\n",
       "      <td>2-4_8b</td>\n",
       "      <td>2-4_8b</td>\n",
       "      <td>memory_8</td>\n",
       "      <td>overlap_8</td>\n",
       "      <td>1805</td>\n",
       "      <td>[]</td>\n",
       "      <td>90</td>\n",
       "      <td>1</td>\n",
       "      <td>0</td>\n",
       "      <td>...</td>\n",
       "      <td>[]</td>\n",
       "      <td>[]</td>\n",
       "      <td>[]</td>\n",
       "      <td>[]</td>\n",
       "      <td>[[[], []], [[(array([[  0.        ,  23.763456...</td>\n",
       "      <td>[]</td>\n",
       "      <td>[[[]], [[[  0.         586.31071429  58.348952...</td>\n",
       "      <td>[]</td>\n",
       "      <td>[]</td>\n",
       "      <td>1</td>\n",
       "    </tr>\n",
       "    <tr>\n",
       "      <th>3</th>\n",
       "      <td>021005</td>\n",
       "      <td>2-4_x</td>\n",
       "      <td>2-4_x</td>\n",
       "      <td>memory_8</td>\n",
       "      <td>overlap_8</td>\n",
       "      <td>3650</td>\n",
       "      <td>8_8</td>\n",
       "      <td>135</td>\n",
       "      <td>1</td>\n",
       "      <td>[]</td>\n",
       "      <td>...</td>\n",
       "      <td>[]</td>\n",
       "      <td>[]</td>\n",
       "      <td>[]</td>\n",
       "      <td>[]</td>\n",
       "      <td>[[[], []], [[(array([[  0.        ,   6.750467...</td>\n",
       "      <td>[]</td>\n",
       "      <td>[[[]], [[[  0.         577.21309524  17.372067...</td>\n",
       "      <td>[]</td>\n",
       "      <td>[]</td>\n",
       "      <td>1</td>\n",
       "    </tr>\n",
       "    <tr>\n",
       "      <th>4</th>\n",
       "      <td>021705</td>\n",
       "      <td>2-4_4</td>\n",
       "      <td>2-4_4</td>\n",
       "      <td>memory_4</td>\n",
       "      <td>overlap_4</td>\n",
       "      <td>1925</td>\n",
       "      <td>[]</td>\n",
       "      <td>180</td>\n",
       "      <td>1</td>\n",
       "      <td>1</td>\n",
       "      <td>...</td>\n",
       "      <td>[]</td>\n",
       "      <td>[]</td>\n",
       "      <td>[]</td>\n",
       "      <td>[]</td>\n",
       "      <td>[[[], []], [[(array([[  0.        ,  51.895839...</td>\n",
       "      <td>[]</td>\n",
       "      <td>[[[]], [[[  0.         666.02857143  40.883048...</td>\n",
       "      <td>[]</td>\n",
       "      <td>[]</td>\n",
       "      <td>1</td>\n",
       "    </tr>\n",
       "  </tbody>\n",
       "</table>\n",
       "<p>5 rows × 34 columns</p>\n",
       "</div>"
      ],
      "text/plain": [
       "     date   dots2   dots4    memory    overlap    depth dots8 prefdir  \\\n",
       "0  012605   2-4_2   2-4_2  memory_2  overlap_2  9999999    []     135   \n",
       "1  012505   2-4_2   2-4_2  memory_2  overlap_2     3250   8_2     100   \n",
       "2  020105  2-4_8b  2-4_8b  memory_8  overlap_8     1805    []      90   \n",
       "3  021005   2-4_x   2-4_x  memory_8  overlap_8     3650   8_8     135   \n",
       "4  021705   2-4_4   2-4_4  memory_4  overlap_4     1925    []     180   \n",
       "\n",
       "  whichunit complete  ... dotfirertNULL sacfirertNULL anglecontrol otherdirs  \\\n",
       "0         1        1  ...            []            []           []        []   \n",
       "1         1        1  ...            []            []           []        []   \n",
       "2         1        0  ...            []            []           []        []   \n",
       "3         1       []  ...            []            []           []        []   \n",
       "4         1        1  ...            []            []           []        []   \n",
       "\n",
       "                                             allnums newit  \\\n",
       "0  [[[], []], [[(array([[  0.        ,  11.292189...    []   \n",
       "1  [[[], []], [[(array([[  0.        ,   3.966298...    []   \n",
       "2  [[[], []], [[(array([[  0.        ,  23.763456...    []   \n",
       "3  [[[], []], [[(array([[  0.        ,   6.750467...    []   \n",
       "4  [[[], []], [[(array([[  0.        ,  51.895839...    []   \n",
       "\n",
       "                                                 rts anglecontrol45 monkey  \\\n",
       "0  [[[]], [[[  0.         714.71036585  23.430024...             []      1   \n",
       "1  [[[]], [[[  0.         677.04886364  33.717126...             []     []   \n",
       "2  [[[]], [[[  0.         586.31071429  58.348952...             []     []   \n",
       "3  [[[]], [[[  0.         577.21309524  17.372067...             []     []   \n",
       "4  [[[]], [[[  0.         666.02857143  40.883048...             []     []   \n",
       "\n",
       "  plx_new  \n",
       "0       0  \n",
       "1       1  \n",
       "2       1  \n",
       "3       1  \n",
       "4       1  \n",
       "\n",
       "[5 rows x 34 columns]"
      ]
     },
     "execution_count": 6,
     "metadata": {},
     "output_type": "execute_result"
    }
   ],
   "source": [
    "raw_data=mat['both_monkeys_lip_nocon'].flatten()\n",
    "col_names=raw_data.dtype.names\n",
    "df_data=pd.DataFrame(columns=col_names)\n",
    "for col_name in col_names:\n",
    "    df_data[col_name]=raw_data[col_name]\n",
    "df_data.head()"
   ]
  },
  {
   "cell_type": "code",
   "execution_count": 7,
   "metadata": {},
   "outputs": [
    {
     "data": {
      "text/plain": [
       "('data', 'prefire')"
      ]
     },
     "execution_count": 7,
     "metadata": {},
     "output_type": "execute_result"
    }
   ],
   "source": [
    "df_data.iloc[0].allnums[1].dtype.names"
   ]
  },
  {
   "cell_type": "markdown",
   "metadata": {},
   "source": [
    "Explode choice experiments"
   ]
  },
  {
   "cell_type": "code",
   "execution_count": 8,
   "metadata": {},
   "outputs": [
    {
     "data": {
      "text/html": [
       "<div>\n",
       "<style scoped>\n",
       "    .dataframe tbody tr th:only-of-type {\n",
       "        vertical-align: middle;\n",
       "    }\n",
       "\n",
       "    .dataframe tbody tr th {\n",
       "        vertical-align: top;\n",
       "    }\n",
       "\n",
       "    .dataframe thead th {\n",
       "        text-align: right;\n",
       "    }\n",
       "</style>\n",
       "<table border=\"1\" class=\"dataframe\">\n",
       "  <thead>\n",
       "    <tr style=\"text-align: right;\">\n",
       "      <th></th>\n",
       "      <th>date</th>\n",
       "      <th>dots2</th>\n",
       "      <th>dots4</th>\n",
       "      <th>memory</th>\n",
       "      <th>overlap</th>\n",
       "      <th>depth</th>\n",
       "      <th>dots8</th>\n",
       "      <th>prefdir</th>\n",
       "      <th>whichunit</th>\n",
       "      <th>complete</th>\n",
       "      <th>...</th>\n",
       "      <th>sacfirertNULL</th>\n",
       "      <th>anglecontrol</th>\n",
       "      <th>otherdirs</th>\n",
       "      <th>allnums</th>\n",
       "      <th>newit</th>\n",
       "      <th>rts</th>\n",
       "      <th>anglecontrol45</th>\n",
       "      <th>monkey</th>\n",
       "      <th>plx_new</th>\n",
       "      <th>choice_exp</th>\n",
       "    </tr>\n",
       "  </thead>\n",
       "  <tbody>\n",
       "    <tr>\n",
       "      <th>0</th>\n",
       "      <td>012605</td>\n",
       "      <td>2-4_2</td>\n",
       "      <td>2-4_2</td>\n",
       "      <td>memory_2</td>\n",
       "      <td>overlap_2</td>\n",
       "      <td>9999999</td>\n",
       "      <td>[]</td>\n",
       "      <td>135</td>\n",
       "      <td>1</td>\n",
       "      <td>1</td>\n",
       "      <td>...</td>\n",
       "      <td>[]</td>\n",
       "      <td>[]</td>\n",
       "      <td>[]</td>\n",
       "      <td>[[[[[  0.          11.2921899 ]\\n [ 32.       ...</td>\n",
       "      <td>[]</td>\n",
       "      <td>[[[]], [[[  0.         714.71036585  23.430024...</td>\n",
       "      <td>[]</td>\n",
       "      <td>1</td>\n",
       "      <td>0</td>\n",
       "      <td>2</td>\n",
       "    </tr>\n",
       "    <tr>\n",
       "      <th>1</th>\n",
       "      <td>012605</td>\n",
       "      <td>2-4_2</td>\n",
       "      <td>2-4_2</td>\n",
       "      <td>memory_2</td>\n",
       "      <td>overlap_2</td>\n",
       "      <td>9999999</td>\n",
       "      <td>[]</td>\n",
       "      <td>135</td>\n",
       "      <td>1</td>\n",
       "      <td>1</td>\n",
       "      <td>...</td>\n",
       "      <td>[]</td>\n",
       "      <td>[]</td>\n",
       "      <td>[]</td>\n",
       "      <td>[[[[[  0.           8.87197279]\\n [ 32.       ...</td>\n",
       "      <td>[]</td>\n",
       "      <td>[[[]], [[[  0.         714.71036585  23.430024...</td>\n",
       "      <td>[]</td>\n",
       "      <td>1</td>\n",
       "      <td>0</td>\n",
       "      <td>4</td>\n",
       "    </tr>\n",
       "    <tr>\n",
       "      <th>2</th>\n",
       "      <td>012505</td>\n",
       "      <td>2-4_2</td>\n",
       "      <td>2-4_2</td>\n",
       "      <td>memory_2</td>\n",
       "      <td>overlap_2</td>\n",
       "      <td>3250</td>\n",
       "      <td>8_2</td>\n",
       "      <td>100</td>\n",
       "      <td>1</td>\n",
       "      <td>1</td>\n",
       "      <td>...</td>\n",
       "      <td>[]</td>\n",
       "      <td>[]</td>\n",
       "      <td>[]</td>\n",
       "      <td>[[[[[  0.           3.96629886]\\n [ 32.       ...</td>\n",
       "      <td>[]</td>\n",
       "      <td>[[[]], [[[  0.         677.04886364  33.717126...</td>\n",
       "      <td>[]</td>\n",
       "      <td>[]</td>\n",
       "      <td>1</td>\n",
       "      <td>2</td>\n",
       "    </tr>\n",
       "    <tr>\n",
       "      <th>3</th>\n",
       "      <td>012505</td>\n",
       "      <td>2-4_2</td>\n",
       "      <td>2-4_2</td>\n",
       "      <td>memory_2</td>\n",
       "      <td>overlap_2</td>\n",
       "      <td>3250</td>\n",
       "      <td>8_2</td>\n",
       "      <td>100</td>\n",
       "      <td>1</td>\n",
       "      <td>1</td>\n",
       "      <td>...</td>\n",
       "      <td>[]</td>\n",
       "      <td>[]</td>\n",
       "      <td>[]</td>\n",
       "      <td>[[[[[  0.           4.18078425]\\n [ 32.       ...</td>\n",
       "      <td>[]</td>\n",
       "      <td>[[[]], [[[  0.         677.04886364  33.717126...</td>\n",
       "      <td>[]</td>\n",
       "      <td>[]</td>\n",
       "      <td>1</td>\n",
       "      <td>4</td>\n",
       "    </tr>\n",
       "    <tr>\n",
       "      <th>4</th>\n",
       "      <td>020105</td>\n",
       "      <td>2-4_8b</td>\n",
       "      <td>2-4_8b</td>\n",
       "      <td>memory_8</td>\n",
       "      <td>overlap_8</td>\n",
       "      <td>1805</td>\n",
       "      <td>[]</td>\n",
       "      <td>90</td>\n",
       "      <td>1</td>\n",
       "      <td>0</td>\n",
       "      <td>...</td>\n",
       "      <td>[]</td>\n",
       "      <td>[]</td>\n",
       "      <td>[]</td>\n",
       "      <td>[[[[[  0.          23.76345682]\\n [ 32.       ...</td>\n",
       "      <td>[]</td>\n",
       "      <td>[[[]], [[[  0.         586.31071429  58.348952...</td>\n",
       "      <td>[]</td>\n",
       "      <td>[]</td>\n",
       "      <td>1</td>\n",
       "      <td>2</td>\n",
       "    </tr>\n",
       "  </tbody>\n",
       "</table>\n",
       "<p>5 rows × 35 columns</p>\n",
       "</div>"
      ],
      "text/plain": [
       "     date   dots2   dots4    memory    overlap    depth dots8 prefdir  \\\n",
       "0  012605   2-4_2   2-4_2  memory_2  overlap_2  9999999    []     135   \n",
       "1  012605   2-4_2   2-4_2  memory_2  overlap_2  9999999    []     135   \n",
       "2  012505   2-4_2   2-4_2  memory_2  overlap_2     3250   8_2     100   \n",
       "3  012505   2-4_2   2-4_2  memory_2  overlap_2     3250   8_2     100   \n",
       "4  020105  2-4_8b  2-4_8b  memory_8  overlap_8     1805    []      90   \n",
       "\n",
       "  whichunit complete  ... sacfirertNULL anglecontrol otherdirs  \\\n",
       "0         1        1  ...            []           []        []   \n",
       "1         1        1  ...            []           []        []   \n",
       "2         1        1  ...            []           []        []   \n",
       "3         1        1  ...            []           []        []   \n",
       "4         1        0  ...            []           []        []   \n",
       "\n",
       "                                             allnums newit  \\\n",
       "0  [[[[[  0.          11.2921899 ]\\n [ 32.       ...    []   \n",
       "1  [[[[[  0.           8.87197279]\\n [ 32.       ...    []   \n",
       "2  [[[[[  0.           3.96629886]\\n [ 32.       ...    []   \n",
       "3  [[[[[  0.           4.18078425]\\n [ 32.       ...    []   \n",
       "4  [[[[[  0.          23.76345682]\\n [ 32.       ...    []   \n",
       "\n",
       "                                                 rts anglecontrol45 monkey  \\\n",
       "0  [[[]], [[[  0.         714.71036585  23.430024...             []      1   \n",
       "1  [[[]], [[[  0.         714.71036585  23.430024...             []      1   \n",
       "2  [[[]], [[[  0.         677.04886364  33.717126...             []     []   \n",
       "3  [[[]], [[[  0.         677.04886364  33.717126...             []     []   \n",
       "4  [[[]], [[[  0.         586.31071429  58.348952...             []     []   \n",
       "\n",
       "  plx_new choice_exp  \n",
       "0       0          2  \n",
       "1       0          4  \n",
       "2       1          2  \n",
       "3       1          4  \n",
       "4       1          2  \n",
       "\n",
       "[5 rows x 35 columns]"
      ]
     },
     "execution_count": 8,
     "metadata": {},
     "output_type": "execute_result"
    }
   ],
   "source": [
    "df_data.allnums=df_data.allnums.apply(lambda row: [(2,row[1]),(4,row[3])])   #pull out and label each experiment\n",
    "df_data=df_data.explode('allnums',ignore_index=True)\n",
    "df_data['choice_exp']=df_data.allnums.apply(lambda row:row[0]) #pull out label\n",
    "df_data.allnums=df_data.allnums.apply(lambda row:row[1]) #overwrite without label\n",
    "df_data.head()"
   ]
  },
  {
   "cell_type": "code",
   "execution_count": 9,
   "metadata": {},
   "outputs": [
    {
     "data": {
      "text/plain": [
       "('data', 'prefire')"
      ]
     },
     "execution_count": 9,
     "metadata": {},
     "output_type": "execute_result"
    }
   ],
   "source": [
    "df_data.iloc[0].allnums.dtype.names"
   ]
  },
  {
   "cell_type": "markdown",
   "metadata": {},
   "source": [
    "explode particular choice"
   ]
  },
  {
   "cell_type": "code",
   "execution_count": 10,
   "metadata": {
    "scrolled": true
   },
   "outputs": [
    {
     "data": {
      "text/html": [
       "<div>\n",
       "<style scoped>\n",
       "    .dataframe tbody tr th:only-of-type {\n",
       "        vertical-align: middle;\n",
       "    }\n",
       "\n",
       "    .dataframe tbody tr th {\n",
       "        vertical-align: top;\n",
       "    }\n",
       "\n",
       "    .dataframe thead th {\n",
       "        text-align: right;\n",
       "    }\n",
       "</style>\n",
       "<table border=\"1\" class=\"dataframe\">\n",
       "  <thead>\n",
       "    <tr style=\"text-align: right;\">\n",
       "      <th></th>\n",
       "      <th>date</th>\n",
       "      <th>dots2</th>\n",
       "      <th>dots4</th>\n",
       "      <th>memory</th>\n",
       "      <th>overlap</th>\n",
       "      <th>depth</th>\n",
       "      <th>dots8</th>\n",
       "      <th>prefdir</th>\n",
       "      <th>whichunit</th>\n",
       "      <th>complete</th>\n",
       "      <th>...</th>\n",
       "      <th>anglecontrol</th>\n",
       "      <th>otherdirs</th>\n",
       "      <th>allnums</th>\n",
       "      <th>newit</th>\n",
       "      <th>rts</th>\n",
       "      <th>anglecontrol45</th>\n",
       "      <th>monkey</th>\n",
       "      <th>plx_new</th>\n",
       "      <th>choice_exp</th>\n",
       "      <th>choice</th>\n",
       "    </tr>\n",
       "  </thead>\n",
       "  <tbody>\n",
       "    <tr>\n",
       "      <th>0</th>\n",
       "      <td>012605</td>\n",
       "      <td>2-4_2</td>\n",
       "      <td>2-4_2</td>\n",
       "      <td>memory_2</td>\n",
       "      <td>overlap_2</td>\n",
       "      <td>9999999</td>\n",
       "      <td>[]</td>\n",
       "      <td>135</td>\n",
       "      <td>1</td>\n",
       "      <td>1</td>\n",
       "      <td>...</td>\n",
       "      <td>[]</td>\n",
       "      <td>[]</td>\n",
       "      <td>[[[0.0, 11.292189902881516], [32.0, 11.7589589...</td>\n",
       "      <td>[]</td>\n",
       "      <td>[[[]], [[[  0.         714.71036585  23.430024...</td>\n",
       "      <td>[]</td>\n",
       "      <td>1</td>\n",
       "      <td>0</td>\n",
       "      <td>2</td>\n",
       "      <td>0</td>\n",
       "    </tr>\n",
       "    <tr>\n",
       "      <th>1</th>\n",
       "      <td>012605</td>\n",
       "      <td>2-4_2</td>\n",
       "      <td>2-4_2</td>\n",
       "      <td>memory_2</td>\n",
       "      <td>overlap_2</td>\n",
       "      <td>9999999</td>\n",
       "      <td>[]</td>\n",
       "      <td>135</td>\n",
       "      <td>1</td>\n",
       "      <td>1</td>\n",
       "      <td>...</td>\n",
       "      <td>[]</td>\n",
       "      <td>[]</td>\n",
       "      <td>[[[0.0, 11.292189902881516], [32.0, 10.4421939...</td>\n",
       "      <td>[]</td>\n",
       "      <td>[[[]], [[[  0.         714.71036585  23.430024...</td>\n",
       "      <td>[]</td>\n",
       "      <td>1</td>\n",
       "      <td>0</td>\n",
       "      <td>2</td>\n",
       "      <td>1</td>\n",
       "    </tr>\n",
       "    <tr>\n",
       "      <th>2</th>\n",
       "      <td>012605</td>\n",
       "      <td>2-4_2</td>\n",
       "      <td>2-4_2</td>\n",
       "      <td>memory_2</td>\n",
       "      <td>overlap_2</td>\n",
       "      <td>9999999</td>\n",
       "      <td>[]</td>\n",
       "      <td>135</td>\n",
       "      <td>1</td>\n",
       "      <td>1</td>\n",
       "      <td>...</td>\n",
       "      <td>[]</td>\n",
       "      <td>[]</td>\n",
       "      <td>[[[0.0, 8.871972789479809], [32.0, 9.141841542...</td>\n",
       "      <td>[]</td>\n",
       "      <td>[[[]], [[[  0.         714.71036585  23.430024...</td>\n",
       "      <td>[]</td>\n",
       "      <td>1</td>\n",
       "      <td>0</td>\n",
       "      <td>4</td>\n",
       "      <td>0</td>\n",
       "    </tr>\n",
       "    <tr>\n",
       "      <th>3</th>\n",
       "      <td>012605</td>\n",
       "      <td>2-4_2</td>\n",
       "      <td>2-4_2</td>\n",
       "      <td>memory_2</td>\n",
       "      <td>overlap_2</td>\n",
       "      <td>9999999</td>\n",
       "      <td>[]</td>\n",
       "      <td>135</td>\n",
       "      <td>1</td>\n",
       "      <td>1</td>\n",
       "      <td>...</td>\n",
       "      <td>[]</td>\n",
       "      <td>[]</td>\n",
       "      <td>[[[0.0, 8.871972789479809], [32.0, 9.638792504...</td>\n",
       "      <td>[]</td>\n",
       "      <td>[[[]], [[[  0.         714.71036585  23.430024...</td>\n",
       "      <td>[]</td>\n",
       "      <td>1</td>\n",
       "      <td>0</td>\n",
       "      <td>4</td>\n",
       "      <td>1</td>\n",
       "    </tr>\n",
       "    <tr>\n",
       "      <th>4</th>\n",
       "      <td>012605</td>\n",
       "      <td>2-4_2</td>\n",
       "      <td>2-4_2</td>\n",
       "      <td>memory_2</td>\n",
       "      <td>overlap_2</td>\n",
       "      <td>9999999</td>\n",
       "      <td>[]</td>\n",
       "      <td>135</td>\n",
       "      <td>1</td>\n",
       "      <td>1</td>\n",
       "      <td>...</td>\n",
       "      <td>[]</td>\n",
       "      <td>[]</td>\n",
       "      <td>[[[0.0, 8.871972789479809], [32.0, 10.75378004...</td>\n",
       "      <td>[]</td>\n",
       "      <td>[[[]], [[[  0.         714.71036585  23.430024...</td>\n",
       "      <td>[]</td>\n",
       "      <td>1</td>\n",
       "      <td>0</td>\n",
       "      <td>4</td>\n",
       "      <td>2</td>\n",
       "    </tr>\n",
       "  </tbody>\n",
       "</table>\n",
       "<p>5 rows × 36 columns</p>\n",
       "</div>"
      ],
      "text/plain": [
       "     date  dots2  dots4    memory    overlap    depth dots8 prefdir whichunit  \\\n",
       "0  012605  2-4_2  2-4_2  memory_2  overlap_2  9999999    []     135         1   \n",
       "1  012605  2-4_2  2-4_2  memory_2  overlap_2  9999999    []     135         1   \n",
       "2  012605  2-4_2  2-4_2  memory_2  overlap_2  9999999    []     135         1   \n",
       "3  012605  2-4_2  2-4_2  memory_2  overlap_2  9999999    []     135         1   \n",
       "4  012605  2-4_2  2-4_2  memory_2  overlap_2  9999999    []     135         1   \n",
       "\n",
       "  complete  ... anglecontrol otherdirs  \\\n",
       "0        1  ...           []        []   \n",
       "1        1  ...           []        []   \n",
       "2        1  ...           []        []   \n",
       "3        1  ...           []        []   \n",
       "4        1  ...           []        []   \n",
       "\n",
       "                                             allnums newit  \\\n",
       "0  [[[0.0, 11.292189902881516], [32.0, 11.7589589...    []   \n",
       "1  [[[0.0, 11.292189902881516], [32.0, 10.4421939...    []   \n",
       "2  [[[0.0, 8.871972789479809], [32.0, 9.141841542...    []   \n",
       "3  [[[0.0, 8.871972789479809], [32.0, 9.638792504...    []   \n",
       "4  [[[0.0, 8.871972789479809], [32.0, 10.75378004...    []   \n",
       "\n",
       "                                                 rts anglecontrol45 monkey  \\\n",
       "0  [[[]], [[[  0.         714.71036585  23.430024...             []      1   \n",
       "1  [[[]], [[[  0.         714.71036585  23.430024...             []      1   \n",
       "2  [[[]], [[[  0.         714.71036585  23.430024...             []      1   \n",
       "3  [[[]], [[[  0.         714.71036585  23.430024...             []      1   \n",
       "4  [[[]], [[[  0.         714.71036585  23.430024...             []      1   \n",
       "\n",
       "  plx_new choice_exp choice  \n",
       "0       0          2      0  \n",
       "1       0          2      1  \n",
       "2       0          4      0  \n",
       "3       0          4      1  \n",
       "4       0          4      2  \n",
       "\n",
       "[5 rows x 36 columns]"
      ]
     },
     "execution_count": 10,
     "metadata": {},
     "output_type": "execute_result"
    }
   ],
   "source": [
    "df_data.allnums=df_data.allnums.apply(lambda row: [[idx,data] for idx,data in zip(range(len(row['data'])),row['data'])])   #pull out and label each experiment\n",
    "df_data=df_data.explode('allnums',ignore_index=True).dropna()\n",
    "df_data['choice']=df_data.allnums.apply(lambda row: row[0]) #pull out label\n",
    "df_data.allnums=df_data.allnums.apply(lambda row:row[1]) #overwrite without label\n",
    "df_data.head()"
   ]
  },
  {
   "cell_type": "code",
   "execution_count": 11,
   "metadata": {},
   "outputs": [
    {
     "data": {
      "text/plain": [
       "('prefire',\n",
       " 'prefire_time',\n",
       " 'dotfire',\n",
       " 'dotfire_time',\n",
       " 'sacfire',\n",
       " 'sacfire_time',\n",
       " 'dir')"
      ]
     },
     "execution_count": 11,
     "metadata": {},
     "output_type": "execute_result"
    }
   ],
   "source": [
    "df_data.iloc[0].allnums.dtype.names"
   ]
  },
  {
   "cell_type": "markdown",
   "metadata": {},
   "source": [
    "explode coherence"
   ]
  },
  {
   "cell_type": "code",
   "execution_count": 12,
   "metadata": {
    "scrolled": true
   },
   "outputs": [
    {
     "data": {
      "text/html": [
       "<div>\n",
       "<style scoped>\n",
       "    .dataframe tbody tr th:only-of-type {\n",
       "        vertical-align: middle;\n",
       "    }\n",
       "\n",
       "    .dataframe tbody tr th {\n",
       "        vertical-align: top;\n",
       "    }\n",
       "\n",
       "    .dataframe thead th {\n",
       "        text-align: right;\n",
       "    }\n",
       "</style>\n",
       "<table border=\"1\" class=\"dataframe\">\n",
       "  <thead>\n",
       "    <tr style=\"text-align: right;\">\n",
       "      <th></th>\n",
       "      <th>date</th>\n",
       "      <th>dots2</th>\n",
       "      <th>dots4</th>\n",
       "      <th>memory</th>\n",
       "      <th>overlap</th>\n",
       "      <th>depth</th>\n",
       "      <th>dots8</th>\n",
       "      <th>prefdir</th>\n",
       "      <th>whichunit</th>\n",
       "      <th>complete</th>\n",
       "      <th>...</th>\n",
       "      <th>otherdirs</th>\n",
       "      <th>allnums</th>\n",
       "      <th>newit</th>\n",
       "      <th>rts</th>\n",
       "      <th>anglecontrol45</th>\n",
       "      <th>monkey</th>\n",
       "      <th>plx_new</th>\n",
       "      <th>choice_exp</th>\n",
       "      <th>choice</th>\n",
       "      <th>coherence</th>\n",
       "    </tr>\n",
       "  </thead>\n",
       "  <tbody>\n",
       "    <tr>\n",
       "      <th>0</th>\n",
       "      <td>012605</td>\n",
       "      <td>2-4_2</td>\n",
       "      <td>2-4_2</td>\n",
       "      <td>memory_2</td>\n",
       "      <td>overlap_2</td>\n",
       "      <td>9999999</td>\n",
       "      <td>[]</td>\n",
       "      <td>135</td>\n",
       "      <td>1</td>\n",
       "      <td>1</td>\n",
       "      <td>...</td>\n",
       "      <td>[]</td>\n",
       "      <td>[[[-480.0, 9.402030838661151], [-440.0, 12.359...</td>\n",
       "      <td>[]</td>\n",
       "      <td>[[[]], [[[  0.         714.71036585  23.430024...</td>\n",
       "      <td>[]</td>\n",
       "      <td>1</td>\n",
       "      <td>0</td>\n",
       "      <td>2</td>\n",
       "      <td>0</td>\n",
       "      <td>0</td>\n",
       "    </tr>\n",
       "    <tr>\n",
       "      <th>1</th>\n",
       "      <td>012605</td>\n",
       "      <td>2-4_2</td>\n",
       "      <td>2-4_2</td>\n",
       "      <td>memory_2</td>\n",
       "      <td>overlap_2</td>\n",
       "      <td>9999999</td>\n",
       "      <td>[]</td>\n",
       "      <td>135</td>\n",
       "      <td>1</td>\n",
       "      <td>1</td>\n",
       "      <td>...</td>\n",
       "      <td>[]</td>\n",
       "      <td>[[[-480.0, 8.70253164556962], [-440.0, 15.1515...</td>\n",
       "      <td>[]</td>\n",
       "      <td>[[[]], [[[  0.         714.71036585  23.430024...</td>\n",
       "      <td>[]</td>\n",
       "      <td>1</td>\n",
       "      <td>0</td>\n",
       "      <td>2</td>\n",
       "      <td>0</td>\n",
       "      <td>32</td>\n",
       "    </tr>\n",
       "    <tr>\n",
       "      <th>2</th>\n",
       "      <td>012605</td>\n",
       "      <td>2-4_2</td>\n",
       "      <td>2-4_2</td>\n",
       "      <td>memory_2</td>\n",
       "      <td>overlap_2</td>\n",
       "      <td>9999999</td>\n",
       "      <td>[]</td>\n",
       "      <td>135</td>\n",
       "      <td>1</td>\n",
       "      <td>1</td>\n",
       "      <td>...</td>\n",
       "      <td>[]</td>\n",
       "      <td>[[[-480.0, 9.675190048375951], [-440.0, 9.4594...</td>\n",
       "      <td>[]</td>\n",
       "      <td>[[[]], [[[  0.         714.71036585  23.430024...</td>\n",
       "      <td>[]</td>\n",
       "      <td>1</td>\n",
       "      <td>0</td>\n",
       "      <td>2</td>\n",
       "      <td>0</td>\n",
       "      <td>64</td>\n",
       "    </tr>\n",
       "    <tr>\n",
       "      <th>3</th>\n",
       "      <td>012605</td>\n",
       "      <td>2-4_2</td>\n",
       "      <td>2-4_2</td>\n",
       "      <td>memory_2</td>\n",
       "      <td>overlap_2</td>\n",
       "      <td>9999999</td>\n",
       "      <td>[]</td>\n",
       "      <td>135</td>\n",
       "      <td>1</td>\n",
       "      <td>1</td>\n",
       "      <td>...</td>\n",
       "      <td>[]</td>\n",
       "      <td>[[[-480.0, 9.623797025371827], [-440.0, 7.7700...</td>\n",
       "      <td>[]</td>\n",
       "      <td>[[[]], [[[  0.         714.71036585  23.430024...</td>\n",
       "      <td>[]</td>\n",
       "      <td>1</td>\n",
       "      <td>0</td>\n",
       "      <td>2</td>\n",
       "      <td>0</td>\n",
       "      <td>128</td>\n",
       "    </tr>\n",
       "    <tr>\n",
       "      <th>4</th>\n",
       "      <td>012605</td>\n",
       "      <td>2-4_2</td>\n",
       "      <td>2-4_2</td>\n",
       "      <td>memory_2</td>\n",
       "      <td>overlap_2</td>\n",
       "      <td>9999999</td>\n",
       "      <td>[]</td>\n",
       "      <td>135</td>\n",
       "      <td>1</td>\n",
       "      <td>1</td>\n",
       "      <td>...</td>\n",
       "      <td>[]</td>\n",
       "      <td>[[[-480.0, 7.363770250368188], [-440.0, 11.428...</td>\n",
       "      <td>[]</td>\n",
       "      <td>[[[]], [[[  0.         714.71036585  23.430024...</td>\n",
       "      <td>[]</td>\n",
       "      <td>1</td>\n",
       "      <td>0</td>\n",
       "      <td>2</td>\n",
       "      <td>0</td>\n",
       "      <td>256</td>\n",
       "    </tr>\n",
       "  </tbody>\n",
       "</table>\n",
       "<p>5 rows × 37 columns</p>\n",
       "</div>"
      ],
      "text/plain": [
       "     date  dots2  dots4    memory    overlap    depth dots8 prefdir whichunit  \\\n",
       "0  012605  2-4_2  2-4_2  memory_2  overlap_2  9999999    []     135         1   \n",
       "1  012605  2-4_2  2-4_2  memory_2  overlap_2  9999999    []     135         1   \n",
       "2  012605  2-4_2  2-4_2  memory_2  overlap_2  9999999    []     135         1   \n",
       "3  012605  2-4_2  2-4_2  memory_2  overlap_2  9999999    []     135         1   \n",
       "4  012605  2-4_2  2-4_2  memory_2  overlap_2  9999999    []     135         1   \n",
       "\n",
       "  complete  ... otherdirs                                            allnums  \\\n",
       "0        1  ...        []  [[[-480.0, 9.402030838661151], [-440.0, 12.359...   \n",
       "1        1  ...        []  [[[-480.0, 8.70253164556962], [-440.0, 15.1515...   \n",
       "2        1  ...        []  [[[-480.0, 9.675190048375951], [-440.0, 9.4594...   \n",
       "3        1  ...        []  [[[-480.0, 9.623797025371827], [-440.0, 7.7700...   \n",
       "4        1  ...        []  [[[-480.0, 7.363770250368188], [-440.0, 11.428...   \n",
       "\n",
       "  newit                                                rts anglecontrol45  \\\n",
       "0    []  [[[]], [[[  0.         714.71036585  23.430024...             []   \n",
       "1    []  [[[]], [[[  0.         714.71036585  23.430024...             []   \n",
       "2    []  [[[]], [[[  0.         714.71036585  23.430024...             []   \n",
       "3    []  [[[]], [[[  0.         714.71036585  23.430024...             []   \n",
       "4    []  [[[]], [[[  0.         714.71036585  23.430024...             []   \n",
       "\n",
       "  monkey plx_new choice_exp choice coherence  \n",
       "0      1       0          2      0         0  \n",
       "1      1       0          2      0        32  \n",
       "2      1       0          2      0        64  \n",
       "3      1       0          2      0       128  \n",
       "4      1       0          2      0       256  \n",
       "\n",
       "[5 rows x 37 columns]"
      ]
     },
     "execution_count": 12,
     "metadata": {},
     "output_type": "execute_result"
    }
   ],
   "source": [
    "df_data.allnums=df_data.allnums.apply(lambda row: [(coherence,data) for coherence,data in zip(row['dotfire_time']['coh'],row['dotfire_time'])])   #pull out and label each experiment\n",
    "df_data=df_data.explode('allnums',ignore_index=True)\n",
    "df_data['coherence']=df_data.allnums.apply(lambda row:row[0]) #pull out label\n",
    "df_data.allnums=df_data.allnums.apply(lambda row:row[1]).dropna() #overwrite without label\n",
    "df_data.head()"
   ]
  },
  {
   "cell_type": "code",
   "execution_count": 13,
   "metadata": {},
   "outputs": [
    {
     "data": {
      "text/plain": [
       "('data', 'coh', 'pspike', 'spiketimes', 'numtrials_dots')"
      ]
     },
     "execution_count": 13,
     "metadata": {},
     "output_type": "execute_result"
    }
   ],
   "source": [
    "df_data.iloc[0].allnums.dtype.names"
   ]
  },
  {
   "cell_type": "markdown",
   "metadata": {},
   "source": [
    "No empty data so no need for this block"
   ]
  },
  {
   "cell_type": "code",
   "execution_count": 14,
   "metadata": {},
   "outputs": [],
   "source": [
    "# df_data.allnums.apply(lambda row:row['spiketimes'].shape==()).sum()\n",
    "# df_data.allnums.apply(lambda row:row['spiketimes'].shape==(0,)).sum()\n",
    "#Drop emtpy data\n",
    "# drop_cond=df_data.allnums.apply(lambda row:(row['spiketimes'].shape==(0,)) | (row['spiketimes'].shape==()))\n",
    "# df_data=df_data.drop(df_data[drop_cond].index)"
   ]
  },
  {
   "cell_type": "markdown",
   "metadata": {},
   "source": [
    "explode trials"
   ]
  },
  {
   "cell_type": "code",
   "execution_count": 14,
   "metadata": {
    "scrolled": true
   },
   "outputs": [
    {
     "data": {
      "text/html": [
       "<div>\n",
       "<style scoped>\n",
       "    .dataframe tbody tr th:only-of-type {\n",
       "        vertical-align: middle;\n",
       "    }\n",
       "\n",
       "    .dataframe tbody tr th {\n",
       "        vertical-align: top;\n",
       "    }\n",
       "\n",
       "    .dataframe thead th {\n",
       "        text-align: right;\n",
       "    }\n",
       "</style>\n",
       "<table border=\"1\" class=\"dataframe\">\n",
       "  <thead>\n",
       "    <tr style=\"text-align: right;\">\n",
       "      <th></th>\n",
       "      <th>date</th>\n",
       "      <th>dots2</th>\n",
       "      <th>dots4</th>\n",
       "      <th>memory</th>\n",
       "      <th>overlap</th>\n",
       "      <th>depth</th>\n",
       "      <th>dots8</th>\n",
       "      <th>prefdir</th>\n",
       "      <th>whichunit</th>\n",
       "      <th>complete</th>\n",
       "      <th>...</th>\n",
       "      <th>allnums</th>\n",
       "      <th>newit</th>\n",
       "      <th>rts</th>\n",
       "      <th>anglecontrol45</th>\n",
       "      <th>monkey</th>\n",
       "      <th>plx_new</th>\n",
       "      <th>choice_exp</th>\n",
       "      <th>choice</th>\n",
       "      <th>coherence</th>\n",
       "      <th>trial</th>\n",
       "    </tr>\n",
       "  </thead>\n",
       "  <tbody>\n",
       "    <tr>\n",
       "      <th>0</th>\n",
       "      <td>012605</td>\n",
       "      <td>2-4_2</td>\n",
       "      <td>2-4_2</td>\n",
       "      <td>memory_2</td>\n",
       "      <td>overlap_2</td>\n",
       "      <td>9999999</td>\n",
       "      <td>[]</td>\n",
       "      <td>135</td>\n",
       "      <td>1</td>\n",
       "      <td>1</td>\n",
       "      <td>...</td>\n",
       "      <td>[497.1750000000029, [-632.3249999999971, -546....</td>\n",
       "      <td>[]</td>\n",
       "      <td>[[[]], [[[  0.         714.71036585  23.430024...</td>\n",
       "      <td>[]</td>\n",
       "      <td>1</td>\n",
       "      <td>0</td>\n",
       "      <td>2</td>\n",
       "      <td>0</td>\n",
       "      <td>0</td>\n",
       "      <td>0</td>\n",
       "    </tr>\n",
       "    <tr>\n",
       "      <th>1</th>\n",
       "      <td>012605</td>\n",
       "      <td>2-4_2</td>\n",
       "      <td>2-4_2</td>\n",
       "      <td>memory_2</td>\n",
       "      <td>overlap_2</td>\n",
       "      <td>9999999</td>\n",
       "      <td>[]</td>\n",
       "      <td>135</td>\n",
       "      <td>1</td>\n",
       "      <td>1</td>\n",
       "      <td>...</td>\n",
       "      <td>[498.125, [-820.5749999999971, -800.8000000000...</td>\n",
       "      <td>[]</td>\n",
       "      <td>[[[]], [[[  0.         714.71036585  23.430024...</td>\n",
       "      <td>[]</td>\n",
       "      <td>1</td>\n",
       "      <td>0</td>\n",
       "      <td>2</td>\n",
       "      <td>0</td>\n",
       "      <td>0</td>\n",
       "      <td>1</td>\n",
       "    </tr>\n",
       "    <tr>\n",
       "      <th>2</th>\n",
       "      <td>012605</td>\n",
       "      <td>2-4_2</td>\n",
       "      <td>2-4_2</td>\n",
       "      <td>memory_2</td>\n",
       "      <td>overlap_2</td>\n",
       "      <td>9999999</td>\n",
       "      <td>[]</td>\n",
       "      <td>135</td>\n",
       "      <td>1</td>\n",
       "      <td>1</td>\n",
       "      <td>...</td>\n",
       "      <td>[502.32499999998254, [-421.8999999999942, -87....</td>\n",
       "      <td>[]</td>\n",
       "      <td>[[[]], [[[  0.         714.71036585  23.430024...</td>\n",
       "      <td>[]</td>\n",
       "      <td>1</td>\n",
       "      <td>0</td>\n",
       "      <td>2</td>\n",
       "      <td>0</td>\n",
       "      <td>0</td>\n",
       "      <td>2</td>\n",
       "    </tr>\n",
       "    <tr>\n",
       "      <th>3</th>\n",
       "      <td>012605</td>\n",
       "      <td>2-4_2</td>\n",
       "      <td>2-4_2</td>\n",
       "      <td>memory_2</td>\n",
       "      <td>overlap_2</td>\n",
       "      <td>9999999</td>\n",
       "      <td>[]</td>\n",
       "      <td>135</td>\n",
       "      <td>1</td>\n",
       "      <td>1</td>\n",
       "      <td>...</td>\n",
       "      <td>[498.125, [-832.25, -618.3499999999767, -571.3...</td>\n",
       "      <td>[]</td>\n",
       "      <td>[[[]], [[[  0.         714.71036585  23.430024...</td>\n",
       "      <td>[]</td>\n",
       "      <td>1</td>\n",
       "      <td>0</td>\n",
       "      <td>2</td>\n",
       "      <td>0</td>\n",
       "      <td>0</td>\n",
       "      <td>3</td>\n",
       "    </tr>\n",
       "    <tr>\n",
       "      <th>4</th>\n",
       "      <td>012605</td>\n",
       "      <td>2-4_2</td>\n",
       "      <td>2-4_2</td>\n",
       "      <td>memory_2</td>\n",
       "      <td>overlap_2</td>\n",
       "      <td>9999999</td>\n",
       "      <td>[]</td>\n",
       "      <td>135</td>\n",
       "      <td>1</td>\n",
       "      <td>1</td>\n",
       "      <td>...</td>\n",
       "      <td>[428.20000000001164, [-776.1749999999884, -741...</td>\n",
       "      <td>[]</td>\n",
       "      <td>[[[]], [[[  0.         714.71036585  23.430024...</td>\n",
       "      <td>[]</td>\n",
       "      <td>1</td>\n",
       "      <td>0</td>\n",
       "      <td>2</td>\n",
       "      <td>0</td>\n",
       "      <td>0</td>\n",
       "      <td>4</td>\n",
       "    </tr>\n",
       "  </tbody>\n",
       "</table>\n",
       "<p>5 rows × 38 columns</p>\n",
       "</div>"
      ],
      "text/plain": [
       "     date  dots2  dots4    memory    overlap    depth dots8 prefdir whichunit  \\\n",
       "0  012605  2-4_2  2-4_2  memory_2  overlap_2  9999999    []     135         1   \n",
       "1  012605  2-4_2  2-4_2  memory_2  overlap_2  9999999    []     135         1   \n",
       "2  012605  2-4_2  2-4_2  memory_2  overlap_2  9999999    []     135         1   \n",
       "3  012605  2-4_2  2-4_2  memory_2  overlap_2  9999999    []     135         1   \n",
       "4  012605  2-4_2  2-4_2  memory_2  overlap_2  9999999    []     135         1   \n",
       "\n",
       "  complete  ...                                            allnums newit  \\\n",
       "0        1  ...  [497.1750000000029, [-632.3249999999971, -546....    []   \n",
       "1        1  ...  [498.125, [-820.5749999999971, -800.8000000000...    []   \n",
       "2        1  ...  [502.32499999998254, [-421.8999999999942, -87....    []   \n",
       "3        1  ...  [498.125, [-832.25, -618.3499999999767, -571.3...    []   \n",
       "4        1  ...  [428.20000000001164, [-776.1749999999884, -741...    []   \n",
       "\n",
       "                                                 rts anglecontrol45 monkey  \\\n",
       "0  [[[]], [[[  0.         714.71036585  23.430024...             []      1   \n",
       "1  [[[]], [[[  0.         714.71036585  23.430024...             []      1   \n",
       "2  [[[]], [[[  0.         714.71036585  23.430024...             []      1   \n",
       "3  [[[]], [[[  0.         714.71036585  23.430024...             []      1   \n",
       "4  [[[]], [[[  0.         714.71036585  23.430024...             []      1   \n",
       "\n",
       "  plx_new choice_exp choice coherence trial  \n",
       "0       0          2      0         0     0  \n",
       "1       0          2      0         0     1  \n",
       "2       0          2      0         0     2  \n",
       "3       0          2      0         0     3  \n",
       "4       0          2      0         0     4  \n",
       "\n",
       "[5 rows x 38 columns]"
      ]
     },
     "execution_count": 14,
     "metadata": {},
     "output_type": "execute_result"
    }
   ],
   "source": [
    "df_data.allnums=df_data.allnums.apply(lambda row: [(trial,data) for trial,data in zip(range(len(row['spiketimes'])),row['spiketimes'])])   #pull out and label each experiment\n",
    "df_data=df_data.explode('allnums',ignore_index=True)\n",
    "df_data['trial']=df_data.allnums.apply(lambda row:row[0]) #pull out label\n",
    "df_data.allnums=df_data.allnums.apply(lambda row:row[1]) #overwrite without label\n",
    "df_data.head()"
   ]
  },
  {
   "cell_type": "code",
   "execution_count": 40,
   "metadata": {},
   "outputs": [
    {
     "ename": "AttributeError",
     "evalue": "'Series' object has no attribute 'allnums'",
     "output_type": "error",
     "traceback": [
      "\u001b[0;31m---------------------------------------------------------------------------\u001b[0m",
      "\u001b[0;31mAttributeError\u001b[0m                            Traceback (most recent call last)",
      "\u001b[0;32m<ipython-input-40-d54ffd2c8f9c>\u001b[0m in \u001b[0;36m<module>\u001b[0;34m\u001b[0m\n\u001b[0;32m----> 1\u001b[0;31m \u001b[0mdf_data\u001b[0m\u001b[0;34m.\u001b[0m\u001b[0miloc\u001b[0m\u001b[0;34m[\u001b[0m\u001b[0;36m0\u001b[0m\u001b[0;34m]\u001b[0m\u001b[0;34m.\u001b[0m\u001b[0mallnums\u001b[0m\u001b[0;34m.\u001b[0m\u001b[0mdtype\u001b[0m\u001b[0;34m.\u001b[0m\u001b[0mnames\u001b[0m\u001b[0;34m\u001b[0m\u001b[0;34m\u001b[0m\u001b[0m\n\u001b[0m",
      "\u001b[0;32m~/anaconda3/envs/py3fresh/lib/python3.7/site-packages/pandas/core/generic.py\u001b[0m in \u001b[0;36m__getattr__\u001b[0;34m(self, name)\u001b[0m\n\u001b[1;32m   5137\u001b[0m             \u001b[0;32mif\u001b[0m \u001b[0mself\u001b[0m\u001b[0;34m.\u001b[0m\u001b[0m_info_axis\u001b[0m\u001b[0;34m.\u001b[0m\u001b[0m_can_hold_identifiers_and_holds_name\u001b[0m\u001b[0;34m(\u001b[0m\u001b[0mname\u001b[0m\u001b[0;34m)\u001b[0m\u001b[0;34m:\u001b[0m\u001b[0;34m\u001b[0m\u001b[0;34m\u001b[0m\u001b[0m\n\u001b[1;32m   5138\u001b[0m                 \u001b[0;32mreturn\u001b[0m \u001b[0mself\u001b[0m\u001b[0;34m[\u001b[0m\u001b[0mname\u001b[0m\u001b[0;34m]\u001b[0m\u001b[0;34m\u001b[0m\u001b[0;34m\u001b[0m\u001b[0m\n\u001b[0;32m-> 5139\u001b[0;31m             \u001b[0;32mreturn\u001b[0m \u001b[0mobject\u001b[0m\u001b[0;34m.\u001b[0m\u001b[0m__getattribute__\u001b[0m\u001b[0;34m(\u001b[0m\u001b[0mself\u001b[0m\u001b[0;34m,\u001b[0m \u001b[0mname\u001b[0m\u001b[0;34m)\u001b[0m\u001b[0;34m\u001b[0m\u001b[0;34m\u001b[0m\u001b[0m\n\u001b[0m\u001b[1;32m   5140\u001b[0m \u001b[0;34m\u001b[0m\u001b[0m\n\u001b[1;32m   5141\u001b[0m     \u001b[0;32mdef\u001b[0m \u001b[0m__setattr__\u001b[0m\u001b[0;34m(\u001b[0m\u001b[0mself\u001b[0m\u001b[0;34m,\u001b[0m \u001b[0mname\u001b[0m\u001b[0;34m:\u001b[0m \u001b[0mstr\u001b[0m\u001b[0;34m,\u001b[0m \u001b[0mvalue\u001b[0m\u001b[0;34m)\u001b[0m \u001b[0;34m->\u001b[0m \u001b[0;32mNone\u001b[0m\u001b[0;34m:\u001b[0m\u001b[0;34m\u001b[0m\u001b[0;34m\u001b[0m\u001b[0m\n",
      "\u001b[0;31mAttributeError\u001b[0m: 'Series' object has no attribute 'allnums'"
     ]
    }
   ],
   "source": [
    "df_data.iloc[0].allnums.dtype.names"
   ]
  },
  {
   "cell_type": "markdown",
   "metadata": {},
   "source": [
    "assign data structure"
   ]
  },
  {
   "cell_type": "code",
   "execution_count": 16,
   "metadata": {
    "scrolled": false
   },
   "outputs": [],
   "source": [
    "for col_name in df_data.iloc[0].allnums.dtype.names:\n",
    "    df_data[col_name]=df_data.allnums.apply(lambda row:row[col_name]) \n",
    "df_data=df_data.drop(labels='allnums',axis=1)"
   ]
  },
  {
   "cell_type": "code",
   "execution_count": 13,
   "metadata": {},
   "outputs": [],
   "source": [
    "col_names=('targtodots',\n",
    " 'targ',\n",
    " 'rt',\n",
    " 'dots',\n",
    " 'sacc',\n",
    " 'coh',\n",
    " 'dir',\n",
    " 'numtargs',\n",
    " 'choice',\n",
    " 'score')"
   ]
  },
  {
   "cell_type": "code",
   "execution_count": 38,
   "metadata": {},
   "outputs": [
    {
     "data": {
      "text/plain": [
       "0"
      ]
     },
     "execution_count": 38,
     "metadata": {},
     "output_type": "execute_result"
    }
   ],
   "source": [
    "(df_data['coh'].astype(str)=='[]').sum()"
   ]
  },
  {
   "cell_type": "code",
   "execution_count": 39,
   "metadata": {},
   "outputs": [],
   "source": [
    "df_data=df_data.drop(df_data[df_data['coh'].astype(str)=='[]'].index)"
   ]
  },
  {
   "cell_type": "code",
   "execution_count": 41,
   "metadata": {},
   "outputs": [
    {
     "data": {
      "text/plain": [
       "date              object\n",
       "dots2             object\n",
       "dots4             object\n",
       "memory            object\n",
       "overlap           object\n",
       "depth             object\n",
       "dots8             object\n",
       "prefdir           object\n",
       "whichunit         object\n",
       "complete          object\n",
       "prefire           object\n",
       "iscomplete        object\n",
       "location          object\n",
       "angcont           object\n",
       "dots8_partial     object\n",
       "prefire_time      object\n",
       "dotfire           object\n",
       "sacfire           object\n",
       "sacfireNULL       object\n",
       "dotfireNULL       object\n",
       "sacfirert         object\n",
       "dotfirert         object\n",
       "sacfireRT_NULL    object\n",
       "dotfireRT_NULL    object\n",
       "dotfirertNULL     object\n",
       "sacfirertNULL     object\n",
       "anglecontrol      object\n",
       "otherdirs         object\n",
       "newit             object\n",
       "rts               object\n",
       "anglecontrol45    object\n",
       "monkey            object\n",
       "plx_new           object\n",
       "choice_exp         int64\n",
       "choice            object\n",
       "coherence          int64\n",
       "trial              int64\n",
       "targtodots        object\n",
       "targ              object\n",
       "rt                object\n",
       "dots              object\n",
       "sacc              object\n",
       "coh               object\n",
       "dir               object\n",
       "numtargs          object\n",
       "score             object\n",
       "correct             bool\n",
       "dtype: object"
      ]
     },
     "execution_count": 41,
     "metadata": {},
     "output_type": "execute_result"
    }
   ],
   "source": [
    "df_data.dtypes"
   ]
  },
  {
   "cell_type": "code",
   "execution_count": 21,
   "metadata": {
    "scrolled": true
   },
   "outputs": [
    {
     "ename": "KeyError",
     "evalue": "'allnums'",
     "output_type": "error",
     "traceback": [
      "\u001b[0;31m---------------------------------------------------------------------------\u001b[0m",
      "\u001b[0;31mKeyError\u001b[0m                                  Traceback (most recent call last)",
      "\u001b[0;32m~/anaconda3/envs/py3fresh/lib/python3.7/site-packages/pandas/core/indexes/base.py\u001b[0m in \u001b[0;36mget_loc\u001b[0;34m(self, key, method, tolerance)\u001b[0m\n\u001b[1;32m   2894\u001b[0m             \u001b[0;32mtry\u001b[0m\u001b[0;34m:\u001b[0m\u001b[0;34m\u001b[0m\u001b[0;34m\u001b[0m\u001b[0m\n\u001b[0;32m-> 2895\u001b[0;31m                 \u001b[0;32mreturn\u001b[0m \u001b[0mself\u001b[0m\u001b[0;34m.\u001b[0m\u001b[0m_engine\u001b[0m\u001b[0;34m.\u001b[0m\u001b[0mget_loc\u001b[0m\u001b[0;34m(\u001b[0m\u001b[0mcasted_key\u001b[0m\u001b[0;34m)\u001b[0m\u001b[0;34m\u001b[0m\u001b[0;34m\u001b[0m\u001b[0m\n\u001b[0m\u001b[1;32m   2896\u001b[0m             \u001b[0;32mexcept\u001b[0m \u001b[0mKeyError\u001b[0m \u001b[0;32mas\u001b[0m \u001b[0merr\u001b[0m\u001b[0;34m:\u001b[0m\u001b[0;34m\u001b[0m\u001b[0;34m\u001b[0m\u001b[0m\n",
      "\u001b[0;32mpandas/_libs/index.pyx\u001b[0m in \u001b[0;36mpandas._libs.index.IndexEngine.get_loc\u001b[0;34m()\u001b[0m\n",
      "\u001b[0;32mpandas/_libs/index.pyx\u001b[0m in \u001b[0;36mpandas._libs.index.IndexEngine.get_loc\u001b[0;34m()\u001b[0m\n",
      "\u001b[0;32mpandas/_libs/hashtable_class_helper.pxi\u001b[0m in \u001b[0;36mpandas._libs.hashtable.PyObjectHashTable.get_item\u001b[0;34m()\u001b[0m\n",
      "\u001b[0;32mpandas/_libs/hashtable_class_helper.pxi\u001b[0m in \u001b[0;36mpandas._libs.hashtable.PyObjectHashTable.get_item\u001b[0;34m()\u001b[0m\n",
      "\u001b[0;31mKeyError\u001b[0m: 'allnums'",
      "\nThe above exception was the direct cause of the following exception:\n",
      "\u001b[0;31mKeyError\u001b[0m                                  Traceback (most recent call last)",
      "\u001b[0;32m<ipython-input-21-c81bbafae162>\u001b[0m in \u001b[0;36m<module>\u001b[0;34m\u001b[0m\n\u001b[1;32m      1\u001b[0m \u001b[0;32mfor\u001b[0m \u001b[0mcolname\u001b[0m \u001b[0;32min\u001b[0m \u001b[0mcol_names\u001b[0m\u001b[0;34m:\u001b[0m\u001b[0;34m\u001b[0m\u001b[0;34m\u001b[0m\u001b[0m\n\u001b[0;32m----> 2\u001b[0;31m     \u001b[0mdf_data\u001b[0m\u001b[0;34m[\u001b[0m\u001b[0mcolname\u001b[0m\u001b[0;34m]\u001b[0m\u001b[0;34m=\u001b[0m\u001b[0mdf_data\u001b[0m\u001b[0;34m[\u001b[0m\u001b[0mcolname\u001b[0m\u001b[0;34m]\u001b[0m\u001b[0;34m\u001b[0m\u001b[0;34m\u001b[0m\u001b[0m\n\u001b[0m",
      "\u001b[0;32m~/anaconda3/envs/py3fresh/lib/python3.7/site-packages/pandas/core/frame.py\u001b[0m in \u001b[0;36m__getitem__\u001b[0;34m(self, key)\u001b[0m\n\u001b[1;32m   2900\u001b[0m             \u001b[0;32mif\u001b[0m \u001b[0mself\u001b[0m\u001b[0;34m.\u001b[0m\u001b[0mcolumns\u001b[0m\u001b[0;34m.\u001b[0m\u001b[0mnlevels\u001b[0m \u001b[0;34m>\u001b[0m \u001b[0;36m1\u001b[0m\u001b[0;34m:\u001b[0m\u001b[0;34m\u001b[0m\u001b[0;34m\u001b[0m\u001b[0m\n\u001b[1;32m   2901\u001b[0m                 \u001b[0;32mreturn\u001b[0m \u001b[0mself\u001b[0m\u001b[0;34m.\u001b[0m\u001b[0m_getitem_multilevel\u001b[0m\u001b[0;34m(\u001b[0m\u001b[0mkey\u001b[0m\u001b[0;34m)\u001b[0m\u001b[0;34m\u001b[0m\u001b[0;34m\u001b[0m\u001b[0m\n\u001b[0;32m-> 2902\u001b[0;31m             \u001b[0mindexer\u001b[0m \u001b[0;34m=\u001b[0m \u001b[0mself\u001b[0m\u001b[0;34m.\u001b[0m\u001b[0mcolumns\u001b[0m\u001b[0;34m.\u001b[0m\u001b[0mget_loc\u001b[0m\u001b[0;34m(\u001b[0m\u001b[0mkey\u001b[0m\u001b[0;34m)\u001b[0m\u001b[0;34m\u001b[0m\u001b[0;34m\u001b[0m\u001b[0m\n\u001b[0m\u001b[1;32m   2903\u001b[0m             \u001b[0;32mif\u001b[0m \u001b[0mis_integer\u001b[0m\u001b[0;34m(\u001b[0m\u001b[0mindexer\u001b[0m\u001b[0;34m)\u001b[0m\u001b[0;34m:\u001b[0m\u001b[0;34m\u001b[0m\u001b[0;34m\u001b[0m\u001b[0m\n\u001b[1;32m   2904\u001b[0m                 \u001b[0mindexer\u001b[0m \u001b[0;34m=\u001b[0m \u001b[0;34m[\u001b[0m\u001b[0mindexer\u001b[0m\u001b[0;34m]\u001b[0m\u001b[0;34m\u001b[0m\u001b[0;34m\u001b[0m\u001b[0m\n",
      "\u001b[0;32m~/anaconda3/envs/py3fresh/lib/python3.7/site-packages/pandas/core/indexes/base.py\u001b[0m in \u001b[0;36mget_loc\u001b[0;34m(self, key, method, tolerance)\u001b[0m\n\u001b[1;32m   2895\u001b[0m                 \u001b[0;32mreturn\u001b[0m \u001b[0mself\u001b[0m\u001b[0;34m.\u001b[0m\u001b[0m_engine\u001b[0m\u001b[0;34m.\u001b[0m\u001b[0mget_loc\u001b[0m\u001b[0;34m(\u001b[0m\u001b[0mcasted_key\u001b[0m\u001b[0;34m)\u001b[0m\u001b[0;34m\u001b[0m\u001b[0;34m\u001b[0m\u001b[0m\n\u001b[1;32m   2896\u001b[0m             \u001b[0;32mexcept\u001b[0m \u001b[0mKeyError\u001b[0m \u001b[0;32mas\u001b[0m \u001b[0merr\u001b[0m\u001b[0;34m:\u001b[0m\u001b[0;34m\u001b[0m\u001b[0;34m\u001b[0m\u001b[0m\n\u001b[0;32m-> 2897\u001b[0;31m                 \u001b[0;32mraise\u001b[0m \u001b[0mKeyError\u001b[0m\u001b[0;34m(\u001b[0m\u001b[0mkey\u001b[0m\u001b[0;34m)\u001b[0m \u001b[0;32mfrom\u001b[0m \u001b[0merr\u001b[0m\u001b[0;34m\u001b[0m\u001b[0;34m\u001b[0m\u001b[0m\n\u001b[0m\u001b[1;32m   2898\u001b[0m \u001b[0;34m\u001b[0m\u001b[0m\n\u001b[1;32m   2899\u001b[0m         \u001b[0;32mif\u001b[0m \u001b[0mtolerance\u001b[0m \u001b[0;32mis\u001b[0m \u001b[0;32mnot\u001b[0m \u001b[0;32mNone\u001b[0m\u001b[0;34m:\u001b[0m\u001b[0;34m\u001b[0m\u001b[0;34m\u001b[0m\u001b[0m\n",
      "\u001b[0;31mKeyError\u001b[0m: 'allnums'"
     ]
    }
   ],
   "source": [
    "for colname in col_names:\n",
    "    df_data[colname]=df_data[colname]"
   ]
  },
  {
   "cell_type": "code",
   "execution_count": 42,
   "metadata": {
    "scrolled": true
   },
   "outputs": [
    {
     "data": {
      "text/plain": [
       "['date',\n",
       " 'dots2',\n",
       " 'dots4',\n",
       " 'memory',\n",
       " 'overlap',\n",
       " 'depth',\n",
       " 'dots8',\n",
       " 'prefdir',\n",
       " 'whichunit',\n",
       " 'complete',\n",
       " 'prefire',\n",
       " 'iscomplete',\n",
       " 'location',\n",
       " 'angcont',\n",
       " 'dots8_partial',\n",
       " 'prefire_time',\n",
       " 'dotfire',\n",
       " 'sacfire',\n",
       " 'sacfireNULL',\n",
       " 'dotfireNULL',\n",
       " 'sacfirert',\n",
       " 'dotfirert',\n",
       " 'sacfireRT_NULL',\n",
       " 'dotfireRT_NULL',\n",
       " 'dotfirertNULL',\n",
       " 'sacfirertNULL',\n",
       " 'anglecontrol',\n",
       " 'otherdirs',\n",
       " 'newit',\n",
       " 'rts',\n",
       " 'anglecontrol45',\n",
       " 'monkey',\n",
       " 'plx_new',\n",
       " 'choice_exp',\n",
       " 'choice',\n",
       " 'coherence',\n",
       " 'trial',\n",
       " 'targtodots',\n",
       " 'targ',\n",
       " 'rt',\n",
       " 'dots',\n",
       " 'sacc',\n",
       " 'coh',\n",
       " 'dir',\n",
       " 'numtargs',\n",
       " 'score',\n",
       " 'correct']"
      ]
     },
     "execution_count": 42,
     "metadata": {},
     "output_type": "execute_result"
    }
   ],
   "source": [
    "list(df_data.columns)"
   ]
  },
  {
   "cell_type": "code",
   "execution_count": 43,
   "metadata": {},
   "outputs": [
    {
     "data": {
      "text/plain": [
       "71087"
      ]
     },
     "execution_count": 43,
     "metadata": {},
     "output_type": "execute_result"
    }
   ],
   "source": [
    "len(df_data)"
   ]
  },
  {
   "cell_type": "code",
   "execution_count": 27,
   "metadata": {
    "scrolled": false
   },
   "outputs": [
    {
     "data": {
      "text/plain": [
       "0"
      ]
     },
     "execution_count": 27,
     "metadata": {},
     "output_type": "execute_result"
    }
   ],
   "source": [
    "(df_data.coherence!=df_data.coh).sum()"
   ]
  },
  {
   "cell_type": "markdown",
   "metadata": {},
   "source": [
    "## Reward rates"
   ]
  },
  {
   "cell_type": "markdown",
   "metadata": {},
   "source": [
    "from Churchland 2008 ratio of reward rates between contexts matches ratio of fitted half maximums of neural urgency within 10% error"
   ]
  },
  {
   "cell_type": "code",
   "execution_count": 28,
   "metadata": {},
   "outputs": [],
   "source": [
    "halfmax_para_4ch_to_2ch=343/133"
   ]
  },
  {
   "cell_type": "code",
   "execution_count": 29,
   "metadata": {},
   "outputs": [
    {
     "data": {
      "text/plain": [
       "Text(0, 0.5, '$\\\\rho_{\\\\textrm{4-choice}}/\\\\rho_{\\\\textrm{2-choice}}$')"
      ]
     },
     "execution_count": 29,
     "metadata": {},
     "output_type": "execute_result"
    },
    {
     "data": {
      "image/png": "[encoded data removed]",
      "text/plain": [
       "<Figure size 432x288 with 1 Axes>"
      ]
     },
     "metadata": {
      "needs_background": "light"
     },
     "output_type": "display_data"
    }
   ],
   "source": [
    "fig,ax=pl.subplots()\n",
    "excess_time=np.linspace(0,2,100)\n",
    "#all for zero coherence\n",
    "mean_time_2ch=0.63\n",
    "mean_time_4ch=0.88\n",
    "acc_2ch=1/2\n",
    "acc_4ch=1/4\n",
    "RR_2ch=acc_2ch/(mean_time_2ch+excess_time)\n",
    "RR_4ch=acc_4ch/(mean_time_4ch+excess_time)\n",
    "ax.plot(excess_time,RR_2ch/RR_4ch)\n",
    "\n",
    "ax.plot(excess_time,halfmax_para_4ch_to_2ch*np.ones(excess_time.shape))\n",
    "ax.set_ylim(0,3)\n",
    "ax.set_xlabel('excess time')\n",
    "ax.set_ylabel(r'$\\rho_{\\textrm{4-choice}}/\\rho_{\\textrm{2-choice}}$')"
   ]
  },
  {
   "cell_type": "code",
   "execution_count": 44,
   "metadata": {},
   "outputs": [],
   "source": [
    "dftmp=df_data.loc[:,('choice_exp','coherence','rt','correct')]"
   ]
  },
  {
   "cell_type": "code",
   "execution_count": 45,
   "metadata": {},
   "outputs": [],
   "source": [
    "dftmp.rt=dftmp.rt.astype(float)#apply(pd.to_numeric, errors='coerce')"
   ]
  },
  {
   "cell_type": "code",
   "execution_count": 59,
   "metadata": {},
   "outputs": [],
   "source": [
    "dftmp['rt']=dftmp['rt'].apply(pd.to_numeric, errors='coerce')"
   ]
  },
  {
   "cell_type": "code",
   "execution_count": null,
   "metadata": {},
   "outputs": [],
   "source": [
    "plot(x='rt')"
   ]
  },
  {
   "cell_type": "code",
   "execution_count": 140,
   "metadata": {
    "scrolled": true
   },
   "outputs": [
    {
     "data": {
      "text/plain": [
       "choice_exp  coherence\n",
       "2           0            631.480526\n",
       "            32           628.007881\n",
       "            64           604.619292\n",
       "            90           589.020035\n",
       "            128          540.849585\n",
       "            256          443.079240\n",
       "            512          333.014623\n",
       "            724          325.977019\n",
       "            768          300.758181\n",
       "4           0            878.618729\n",
       "            32           852.696782\n",
       "            64           738.265517\n",
       "            90           792.251812\n",
       "            128          646.083296\n",
       "            256          498.631037\n",
       "            512          342.912053\n",
       "            724          340.445087\n",
       "            768          310.328936\n",
       "Name: rt, dtype: float64"
      ]
     },
     "execution_count": 140,
     "metadata": {},
     "output_type": "execute_result"
    }
   ],
   "source": [
    "dftmp.groupby(by=['choice_exp','coherence'])['rt'].mean()"
   ]
  },
  {
   "cell_type": "code",
   "execution_count": 164,
   "metadata": {},
   "outputs": [],
   "source": [
    "accuracy=np.zeros((2,len(bins)))\n",
    "accuracy_std=np.zeros((2,len(bins)))\n",
    "for cit,choice_exp in enumerate((2,4)):\n",
    "    bins=50*np.arange(40)\n",
    "    dftmp['bin_index']=dftmp.rt.apply(lambda x:np.argmin(np.fabs(x-bins)))#.apply(lambda x: x[0] if len(x)>0 else -1)  \n",
    "    for bit,bin_ind in enumerate(bins):\n",
    "        accuracy[cit,bit]=dftmp[(dftmp.bin_index==bit) & (dftmp.choice_exp==choice_exp)].correct.mean()\n",
    "        accuracy_std[cit,bit]=dftmp[(dftmp.bin_index==bit) & (dftmp.choice_exp==choice_exp)].correct.std()"
   ]
  },
  {
   "cell_type": "code",
   "execution_count": 171,
   "metadata": {},
   "outputs": [
    {
     "name": "stderr",
     "output_type": "stream",
     "text": [
      "/home/max/anaconda3/envs/py3fresh/lib/python3.7/site-packages/matplotlib/axes/_axes.py:6521: MatplotlibDeprecationWarning: \n",
      "The 'normed' kwarg was deprecated in Matplotlib 2.1 and will be removed in 3.1. Use 'density' instead.\n",
      "  alternative=\"'density'\", removal=\"3.1\")\n",
      "/home/max/anaconda3/envs/py3fresh/lib/python3.7/site-packages/matplotlib/axes/_axes.py:6521: MatplotlibDeprecationWarning: \n",
      "The 'normed' kwarg was deprecated in Matplotlib 2.1 and will be removed in 3.1. Use 'density' instead.\n",
      "  alternative=\"'density'\", removal=\"3.1\")\n"
     ]
    },
    {
     "data": {
      "image/png": "[encoded data removed]",
      "text/plain": [
       "<Figure size 576x576 with 2 Axes>"
      ]
     },
     "metadata": {},
     "output_type": "display_data"
    }
   ],
   "source": [
    "fig,ax=pl.subplots(2,1)\n",
    "ax[0].axvline(220,ls='--',color='k')\n",
    "for cit,choice_exp in enumerate((2,4)):\n",
    "#     ax.errorbar(x=bins,y=accuracy[cit],yerr=accuracy_std[cit])\n",
    "    ax[0].plot(bins,accuracy[cit])\n",
    "    rho_test=0.003\n",
    "#     pred_bound=1-rho_test*(bins-220)/(1+rho_test*(bins-220))\n",
    "#     ax.plot(bins,pred_bound,'r-')\n",
    "    ax[0].set_ylim(0,1)\n",
    "    dftmp[dftmp.choice_exp==choice_exp].rt.hist(ax=ax[1],alpha=0.5,bins=bins,normed=True)"
   ]
  },
  {
   "cell_type": "markdown",
   "metadata": {},
   "source": [
    "## Urgency"
   ]
  },
  {
   "cell_type": "markdown",
   "metadata": {},
   "source": [
    "get Tin and Tout groups to make urgency"
   ]
  },
  {
   "cell_type": "code",
   "execution_count": 22,
   "metadata": {},
   "outputs": [
    {
     "data": {
      "text/plain": [
       "array([135, 315, 45, 225, 100, 280, 10, 190, 90, 270, 0, 180, 65, 245,\n",
       "       155, 335, 70, 250, 160, 340, 35, 215, 125, 305, 20, 200, 110, 290,\n",
       "       12, 192, 102, 282, 40, 220, 130, 310, 25, 205, 115, 295, 15, 195,\n",
       "       105, 285, 55, 235, 145, 325, 170, 350, 80, 260, 30, 210, 120, 300,\n",
       "       140, 320, 50, 230, 150, 330, 60, 240, 58, 238, 148, 328],\n",
       "      dtype=object)"
      ]
     },
     "execution_count": 22,
     "metadata": {},
     "output_type": "execute_result"
    }
   ],
   "source": [
    "df_data.dir.unique()"
   ]
  },
  {
   "cell_type": "code",
   "execution_count": 23,
   "metadata": {},
   "outputs": [
    {
     "data": {
      "text/plain": [
       "array([135, 100, 90, 180, 245, 225, 250, 215, 190, 155, 200, 270, 192,\n",
       "       220, 205, 195, 235, 170, 210, 140, 315, 280, 330, 340, 25, 350,\n",
       "       260, 60, 238, 45, 20], dtype=object)"
      ]
     },
     "execution_count": 23,
     "metadata": {},
     "output_type": "execute_result"
    }
   ],
   "source": [
    "df_data.prefdir.unique()"
   ]
  },
  {
   "cell_type": "code",
   "execution_count": 24,
   "metadata": {},
   "outputs": [
    {
     "data": {
      "text/plain": [
       "0.3177233530744018"
      ]
     },
     "execution_count": 24,
     "metadata": {},
     "output_type": "execute_result"
    }
   ],
   "source": [
    "(df_data.prefdir==df_data.dir).sum()/len(df_data)"
   ]
  },
  {
   "cell_type": "code",
   "execution_count": 25,
   "metadata": {},
   "outputs": [],
   "source": [
    "Tin_cond=(df_data.prefdir==df_data.dir)\n",
    "Tout_cond=(df_data.prefdir!=df_data.dir)\n",
    "rec_field_cond={'Tin':Tin_cond,'Tout':Tout_cond}"
   ]
  },
  {
   "cell_type": "code",
   "execution_count": 26,
   "metadata": {},
   "outputs": [
    {
     "data": {
      "text/plain": [
       "array([  0,   1,   2,   3,   4,   5,   6,   7,   8,   9,  10,  11,  12,\n",
       "        13,  14,  15,  16,  17,  18,  19,  20,  21,  22,  23,  24,  25,\n",
       "        26,  27,  28,  29,  30,  31,  32,  33,  34,  35,  36,  37,  38,\n",
       "        39,  40,  41,  42,  43,  44,  45,  46,  47,  48,  49,  50,  51,\n",
       "        52,  53,  54,  55,  56,  57,  58,  59,  60,  61,  62,  63,  64,\n",
       "        65,  66,  67,  68,  69,  70,  71,  72,  73,  74,  75,  76,  77,\n",
       "        78,  79,  80,  81,  82,  83,  84,  85,  86,  87,  88,  89,  90,\n",
       "        91,  92,  93,  94,  95,  96,  97,  98,  99, 100, 101, 102, 103,\n",
       "       104, 105, 106, 107, 108, 109, 110, 111, 112, 113, 114, 115, 116,\n",
       "       117, 118, 119, 120, 121, 122, 123, 124, 125, 126, 127, 128, 129,\n",
       "       130, 131, 132, 133, 134, 135, 136, 137, 138, 139, 140, 141, 142,\n",
       "       143, 144, 145, 146, 147, 148, 149, 150, 151, 152, 153, 154, 155,\n",
       "       156, 157, 158, 159, 160, 161, 162, 163, 164, 165, 166, 167, 168,\n",
       "       169, 170, 171, 172, 173, 174, 175, 176, 177, 178, 179, 180, 181,\n",
       "       182, 183, 184, 185, 186, 187, 188, 189, 190, 191, 192, 193, 194,\n",
       "       195, 196, 197, 198, 199, 200, 201, 202, 203, 204, 205, 206, 207,\n",
       "       208, 209, 210, 211, 212, 213, 214, 215, 216, 217, 218, 219, 220,\n",
       "       221, 222, 223, 224, 225, 226, 227, 228, 229, 230, 231, 232, 233,\n",
       "       234, 235])"
      ]
     },
     "execution_count": 26,
     "metadata": {},
     "output_type": "execute_result"
    }
   ],
   "source": [
    "df_data.trial.unique()"
   ]
  },
  {
   "cell_type": "code",
   "execution_count": 27,
   "metadata": {},
   "outputs": [
    {
     "data": {
      "text/plain": [
       "0.5550663271765583"
      ]
     },
     "execution_count": 27,
     "metadata": {},
     "output_type": "execute_result"
    }
   ],
   "source": [
    "(df_data.dir==df_data.choice).mean()"
   ]
  },
  {
   "cell_type": "code",
   "execution_count": 28,
   "metadata": {},
   "outputs": [
    {
     "data": {
      "text/plain": [
       "671.3081526861697"
      ]
     },
     "execution_count": 28,
     "metadata": {},
     "output_type": "execute_result"
    }
   ],
   "source": [
    "df_data.rt.mean()"
   ]
  },
  {
   "cell_type": "code",
   "execution_count": 29,
   "metadata": {},
   "outputs": [
    {
     "name": "stdout",
     "output_type": "stream",
     "text": [
      "0.7174532456094908 526.9896751800409\n",
      "0.494534991503167 725.1042976595293\n"
     ]
    }
   ],
   "source": [
    "for choice_exp in [2,4]:\n",
    "    acc=(df_data[df_data.choice_exp==choice_exp].dir==df_data[df_data.choice_exp==choice_exp].choice).mean()\n",
    "    meanrt=df_data[df_data.choice_exp==choice_exp].rt.mean()\n",
    "    print(str(acc)+' '+str(meanrt))"
   ]
  },
  {
   "cell_type": "code",
   "execution_count": 51,
   "metadata": {},
   "outputs": [
    {
     "data": {
      "text/plain": [
       "921.3081526861573"
      ]
     },
     "execution_count": 51,
     "metadata": {},
     "output_type": "execute_result"
    }
   ],
   "source": [
    "(df_data.rt+250).mean()"
   ]
  },
  {
   "cell_type": "code",
   "execution_count": 53,
   "metadata": {},
   "outputs": [
    {
     "data": {
      "text/plain": [
       "875.5"
      ]
     },
     "execution_count": 53,
     "metadata": {},
     "output_type": "execute_result"
    }
   ],
   "source": [
    "(526+725+500)/2"
   ]
  },
  {
   "cell_type": "code",
   "execution_count": 54,
   "metadata": {},
   "outputs": [
    {
     "data": {
      "text/plain": [
       "0.3727599258458211"
      ]
     },
     "execution_count": 54,
     "metadata": {},
     "output_type": "execute_result"
    }
   ],
   "source": [
    "(df_data.choice_exp==2).sum()/(df_data.choice_exp==4).sum()"
   ]
  },
  {
   "cell_type": "code",
   "execution_count": 45,
   "metadata": {
    "scrolled": true
   },
   "outputs": [
    {
     "data": {
      "text/plain": [
       "0.494534991503167"
      ]
     },
     "execution_count": 45,
     "metadata": {},
     "output_type": "execute_result"
    }
   ],
   "source": [
    "(df_data[df_data.choice_exp==4].dir==df_data[df_data.choice_exp==4].choice).mean()"
   ]
  },
  {
   "cell_type": "code",
   "execution_count": 31,
   "metadata": {
    "scrolled": true
   },
   "outputs": [
    {
     "name": "stdout",
     "output_type": "stream",
     "text": [
      "2\n",
      "0\n",
      "32\n",
      "64\n",
      "128\n",
      "256\n",
      "512\n",
      "768\n",
      "90\n"
     ]
    },
    {
     "name": "stderr",
     "output_type": "stream",
     "text": [
      "/home/max/anaconda3/envs/py3fresh/lib/python3.7/site-packages/ipykernel_launcher.py:30: RuntimeWarning: invalid value encountered in true_divide\n",
      "/home/max/anaconda3/envs/py3fresh/lib/python3.7/site-packages/ipykernel_launcher.py:30: RuntimeWarning: invalid value encountered in true_divide\n"
     ]
    },
    {
     "name": "stdout",
     "output_type": "stream",
     "text": [
      "724\n",
      "4\n",
      "0\n",
      "32\n",
      "64\n",
      "128\n",
      "256\n",
      "512\n",
      "768\n",
      "90\n"
     ]
    },
    {
     "name": "stderr",
     "output_type": "stream",
     "text": [
      "/home/max/anaconda3/envs/py3fresh/lib/python3.7/site-packages/ipykernel_launcher.py:30: RuntimeWarning: invalid value encountered in true_divide\n",
      "/home/max/anaconda3/envs/py3fresh/lib/python3.7/site-packages/ipykernel_launcher.py:30: RuntimeWarning: invalid value encountered in true_divide\n"
     ]
    },
    {
     "name": "stdout",
     "output_type": "stream",
     "text": [
      "724\n",
      "2\n",
      "0\n",
      "32\n",
      "64\n",
      "128\n",
      "256\n",
      "512\n",
      "768\n",
      "90\n"
     ]
    },
    {
     "name": "stderr",
     "output_type": "stream",
     "text": [
      "/home/max/anaconda3/envs/py3fresh/lib/python3.7/site-packages/ipykernel_launcher.py:30: RuntimeWarning: invalid value encountered in true_divide\n",
      "/home/max/anaconda3/envs/py3fresh/lib/python3.7/site-packages/ipykernel_launcher.py:30: RuntimeWarning: invalid value encountered in true_divide\n"
     ]
    },
    {
     "name": "stdout",
     "output_type": "stream",
     "text": [
      "724\n",
      "4\n",
      "0\n"
     ]
    },
    {
     "name": "stderr",
     "output_type": "stream",
     "text": [
      "/home/max/anaconda3/envs/py3fresh/lib/python3.7/site-packages/ipykernel_launcher.py:30: RuntimeWarning: invalid value encountered in true_divide\n"
     ]
    },
    {
     "name": "stdout",
     "output_type": "stream",
     "text": [
      "32\n",
      "64\n",
      "128\n",
      "256\n",
      "512\n",
      "768\n",
      "90\n"
     ]
    },
    {
     "name": "stderr",
     "output_type": "stream",
     "text": [
      "/home/max/anaconda3/envs/py3fresh/lib/python3.7/site-packages/ipykernel_launcher.py:30: RuntimeWarning: divide by zero encountered in true_divide\n",
      "/home/max/anaconda3/envs/py3fresh/lib/python3.7/site-packages/ipykernel_launcher.py:30: RuntimeWarning: invalid value encountered in true_divide\n",
      "/home/max/anaconda3/envs/py3fresh/lib/python3.7/site-packages/ipykernel_launcher.py:30: RuntimeWarning: divide by zero encountered in true_divide\n",
      "/home/max/anaconda3/envs/py3fresh/lib/python3.7/site-packages/ipykernel_launcher.py:30: RuntimeWarning: invalid value encountered in true_divide\n"
     ]
    },
    {
     "name": "stdout",
     "output_type": "stream",
     "text": [
      "724\n"
     ]
    },
    {
     "data": {
      "image/png": "[encoded data removed]",
      "text/plain": [
       "<Figure size 432x288 with 1 Axes>"
      ]
     },
     "metadata": {
      "needs_background": "light"
     },
     "output_type": "display_data"
    }
   ],
   "source": [
    "urgency_data=dict.fromkeys(['Tin','Tout'])\n",
    "RT_data=dict.fromkeys(['Tin','Tout'])\n",
    "bin_width=20\n",
    "bins=np.arange(0,1000,bin_width)\n",
    "fig,ax=pl.subplots()\n",
    "for is_rec_field in urgency_data.keys():\n",
    "    urgency_data[is_rec_field]=dict.fromkeys([2,4])\n",
    "    RT_data[is_rec_field]=dict.fromkeys([2,4])\n",
    "    for choice_exp in [2,4]:\n",
    "        print(choice_exp)\n",
    "        coherences=df_data[rec_field_cond[is_rec_field] & (df_data.choice_exp==choice_exp)].coherence.unique()\n",
    "        urgency_data[is_rec_field][choice_exp]=dict.fromkeys(coherences)\n",
    "        RT_data[is_rec_field][choice_exp]=dict.fromkeys(coherences)\n",
    "        for coherence in coherences:\n",
    "            print(coherence)\n",
    "            spike_time_data=df_data.loc[rec_field_cond[is_rec_field] & (df_data.choice_exp==choice_exp) & (df_data.coherence==coherence),('dots','rt')]\n",
    "            \n",
    "            #get normalization factor for each bin by counting number of cellxtrials combo's for trials before response time\n",
    "            counts,bins=np.histogram(spike_time_data.rt,bins)#value_counts().cumsum()\n",
    "            RT_data[is_rec_field][choice_exp][coherence]=counts\n",
    "            num_active_trials=len(spike_time_data)-np.cumsum(counts)\n",
    "            ax.plot(bins[:-1],num_active_trials)\n",
    "            #explode spiketimes\n",
    "            exploded_spike_binidx_data=spike_time_data.explode('dots')#/bin_width).astype(int)\n",
    "            \n",
    "            #remove spikes happening after the subjects response time.\n",
    "            exploded_spike_binidx_data=exploded_spike_binidx_data.drop(exploded_spike_binidx_data[exploded_spike_binidx_data.dots>exploded_spike_binidx_data.rt].index)\n",
    "            \n",
    "            counts,bins=np.histogram(exploded_spike_binidx_data,bins)\n",
    "            urgency_data[is_rec_field][choice_exp][coherence]=counts/num_active_trials\n",
    "#             urgency_data[is_rec_field][choice_exp][coherence]=(num_trials,np.histogram(spike_times,bins=bins))\n",
    "            \n",
    "            \n",
    "            "
   ]
  },
  {
   "cell_type": "code",
   "execution_count": 35,
   "metadata": {},
   "outputs": [],
   "source": [
    "df_data['correct']=(df_data.dir==df_data.choice)"
   ]
  },
  {
   "cell_type": "code",
   "execution_count": 37,
   "metadata": {},
   "outputs": [
    {
     "data": {
      "text/plain": [
       "0        135\n",
       "1        315\n",
       "2        135\n",
       "3        315\n",
       "4        135\n",
       "        ... \n",
       "71159    270\n",
       "71160    270\n",
       "71161    270\n",
       "71162    270\n",
       "71163    270\n",
       "Name: choice, Length: 71087, dtype: object"
      ]
     },
     "execution_count": 37,
     "metadata": {},
     "output_type": "execute_result"
    }
   ],
   "source": [
    "df_data.choice"
   ]
  },
  {
   "cell_type": "code",
   "execution_count": 37,
   "metadata": {
    "scrolled": false
   },
   "outputs": [
    {
     "name": "stdout",
     "output_type": "stream",
     "text": [
      "2\n",
      "0\n",
      "32\n",
      "64\n",
      "128\n",
      "256\n",
      "512\n",
      "768\n",
      "90\n"
     ]
    },
    {
     "name": "stderr",
     "output_type": "stream",
     "text": [
      "/home/max/anaconda3/envs/py3fresh/lib/python3.7/site-packages/ipykernel_launcher.py:30: RuntimeWarning: invalid value encountered in true_divide\n",
      "/home/max/anaconda3/envs/py3fresh/lib/python3.7/site-packages/ipykernel_launcher.py:30: RuntimeWarning: invalid value encountered in true_divide\n"
     ]
    },
    {
     "name": "stdout",
     "output_type": "stream",
     "text": [
      "724\n",
      "4\n",
      "0\n",
      "32\n",
      "64\n",
      "128\n",
      "256\n",
      "512\n",
      "768\n",
      "90\n"
     ]
    },
    {
     "name": "stderr",
     "output_type": "stream",
     "text": [
      "/home/max/anaconda3/envs/py3fresh/lib/python3.7/site-packages/ipykernel_launcher.py:30: RuntimeWarning: invalid value encountered in true_divide\n",
      "/home/max/anaconda3/envs/py3fresh/lib/python3.7/site-packages/ipykernel_launcher.py:30: RuntimeWarning: invalid value encountered in true_divide\n"
     ]
    },
    {
     "name": "stdout",
     "output_type": "stream",
     "text": [
      "724\n",
      "2\n",
      "0\n",
      "32\n",
      "64\n",
      "128\n",
      "256\n",
      "512\n",
      "768\n",
      "90\n"
     ]
    },
    {
     "name": "stderr",
     "output_type": "stream",
     "text": [
      "/home/max/anaconda3/envs/py3fresh/lib/python3.7/site-packages/ipykernel_launcher.py:30: RuntimeWarning: invalid value encountered in true_divide\n",
      "/home/max/anaconda3/envs/py3fresh/lib/python3.7/site-packages/ipykernel_launcher.py:30: RuntimeWarning: invalid value encountered in true_divide\n"
     ]
    },
    {
     "name": "stdout",
     "output_type": "stream",
     "text": [
      "724\n",
      "4\n",
      "0\n"
     ]
    },
    {
     "name": "stderr",
     "output_type": "stream",
     "text": [
      "/home/max/anaconda3/envs/py3fresh/lib/python3.7/site-packages/ipykernel_launcher.py:30: RuntimeWarning: invalid value encountered in true_divide\n"
     ]
    },
    {
     "name": "stdout",
     "output_type": "stream",
     "text": [
      "32\n",
      "64\n",
      "128\n",
      "256\n",
      "512\n",
      "768\n",
      "90\n"
     ]
    },
    {
     "name": "stderr",
     "output_type": "stream",
     "text": [
      "/home/max/anaconda3/envs/py3fresh/lib/python3.7/site-packages/ipykernel_launcher.py:30: RuntimeWarning: divide by zero encountered in true_divide\n",
      "/home/max/anaconda3/envs/py3fresh/lib/python3.7/site-packages/ipykernel_launcher.py:30: RuntimeWarning: invalid value encountered in true_divide\n",
      "/home/max/anaconda3/envs/py3fresh/lib/python3.7/site-packages/ipykernel_launcher.py:30: RuntimeWarning: divide by zero encountered in true_divide\n",
      "/home/max/anaconda3/envs/py3fresh/lib/python3.7/site-packages/ipykernel_launcher.py:30: RuntimeWarning: invalid value encountered in true_divide\n"
     ]
    },
    {
     "name": "stdout",
     "output_type": "stream",
     "text": [
      "724\n"
     ]
    }
   ],
   "source": [
    "urgency_data=dict.fromkeys(['Tin','Tout'])\n",
    "RT_data=dict.fromkeys(['Tin','Tout'])\n",
    "bin_width=20\n",
    "bins=np.arange(0,1000,bin_width)\n",
    "# fig,ax=pl.subplots()\n",
    "for is_rec_field in urgency_data.keys():\n",
    "    urgency_data[is_rec_field]=dict.fromkeys([2,4])\n",
    "    RT_data[is_rec_field]=dict.fromkeys([2,4])\n",
    "    for choice_exp in [2,4]:\n",
    "        print(choice_exp)\n",
    "        coherences=df_data[rec_field_cond[is_rec_field] & (df_data.choice_exp==choice_exp)].coherence.unique()\n",
    "        urgency_data[is_rec_field][choice_exp]=dict.fromkeys(coherences)\n",
    "        RT_data[is_rec_field][choice_exp]=dict.fromkeys(coherences)\n",
    "        for coherence in coherences:\n",
    "            print(coherence)\n",
    "            spike_time_data=df_data.loc[rec_field_cond[is_rec_field] & (df_data.choice_exp==choice_exp) & (df_data.coherence==coherence),('dots','rt')]\n",
    "            \n",
    "            #get normalization factor for each bin by counting number of cellxtrials combo's for trials before response time\n",
    "            counts,bins=np.histogram(spike_time_data.rt,bins)#value_counts().cumsum()\n",
    "            RT_data[is_rec_field][choice_exp][coherence]=counts\n",
    "            num_active_trials=len(spike_time_data)-np.cumsum(counts)\n",
    "            ax.plot(bins[:-1],num_active_trials)\n",
    "            #explode spiketimes\n",
    "            exploded_spike_binidx_data=spike_time_data.explode('dots')#/bin_width).astype(int)\n",
    "            \n",
    "            #remove spikes happening after the subjects response time.\n",
    "            exploded_spike_binidx_data=exploded_spike_binidx_data.drop(exploded_spike_binidx_data[exploded_spike_binidx_data.dots>exploded_spike_binidx_data.rt].index)\n",
    "            \n",
    "            counts,bins=np.histogram(exploded_spike_binidx_data,bins)\n",
    "            urgency_data[is_rec_field][choice_exp][coherence]=counts/num_active_trials\n",
    "#             urgency_data[is_rec_field][choice_exp][coherence]=(num_trials,np.histogram(spike_times,bins=bins))\n",
    "            \n",
    "            \n",
    "            "
   ]
  },
  {
   "cell_type": "code",
   "execution_count": 33,
   "metadata": {},
   "outputs": [
    {
     "data": {
      "image/png": "[encoded data removed]",
      "text/plain": [
       "<Figure size 576x864 with 2 Axes>"
      ]
     },
     "metadata": {},
     "output_type": "display_data"
    }
   ],
   "source": [
    "fig,ax=pl.subplots(2,1,figsize=(8,12))\n",
    "colstr2=pl.cm.RdPu(np.linspace(0.2,1.0,len(urgency_data[is_rec_field][2].keys())))\n",
    "colstr4=pl.cm.YlGn(np.linspace(0.2,1.0,len(urgency_data[is_rec_field][4].keys())))\n",
    "colstrvec=(colstr2,colstr4)\n",
    "for rit,is_rec_field in enumerate(urgency_data.keys()):\n",
    "    for cit,choice_exp in enumerate(urgency_data[is_rec_field].keys()):\n",
    "        for coit,coherence in enumerate(urgency_data[is_rec_field][choice_exp].keys()):\n",
    "            if coherence in [0,32,90,256]:\n",
    "                try:\n",
    "                    counts=urgency_data[is_rec_field][choice_exp][coherence]\n",
    "                    RT_counts=RT_data[is_rec_field][choice_exp][coherence]\n",
    "                    if rit==0:\n",
    "                        ax[0].plot(bins[:-1]/1000,counts/np.diff(bins)*1000,'-',color=colstrvec[cit][coit],label=is_rec_field+' '+str(choice_exp)+' '+str(coherence))\n",
    "                        ax[1].plot(bins[:-1]/1000,RT_counts/np.sum(counts)/np.diff(bins)*1000,'-',color=colstrvec[cit][coit],label=is_rec_field+' '+str(choice_exp)+' '+str(coherence))\n",
    "                    else:\n",
    "                        ax[0].plot(bins[:-1]/1000,counts/np.diff(bins)*1000,'--',color=colstrvec[cit][coit],label=is_rec_field+' '+str(choice_exp)+' '+str(coherence))\n",
    "                        ax[1].plot(bins[:-1]/1000,RT_counts/np.sum(counts)/np.diff(bins)*1000,'--',color=colstrvec[cit][coit],label=is_rec_field+' '+str(choice_exp)+' '+str(coherence))\n",
    "                except:\n",
    "                    print('')\n",
    "                    \n",
    "\n",
    "# # for rit,is_rec_field in enumerate(urgency_data.keys()):\n",
    "# for cit,choice_exp in enumerate(urgency_data[is_rec_field].keys()):\n",
    "#     for coit,coherence in enumerate(urgency_data[is_rec_field][choice_exp].keys()):\n",
    "#         if coherence in [0,32,90,256]:\n",
    "#             counts_in=urgency_data['Tin'][choice_exp][coherence]\n",
    "#             counts_out=urgency_data['Tout'][choice_exp][coherence]\n",
    "#             counts=(counts_in+ counts_out)/2\n",
    "# #             counts=counts_in/(num_trials_in+num_trials_out) + counts_out/(num_trials_in+num_trials_out)\n",
    "#             ax[0].plot(bins[:-1]/1000,counts/np.diff(bins)*1000,'-',lw=4,color=colstrvec[cit][coit])\n",
    "\n",
    "\n",
    "ax[1].legend(frameon=False,prop={\"size\":10})\n",
    "ax[0].set_xlabel('trial time, $s$')\n",
    "ax[0].set_ylabel(r'firing rate, $\\textrm{Hz}$')\n",
    "ax[0].set_ylim([20,70])\n",
    "ax[0].set_title('thick lines are average of solid \\& dashed')\n",
    "ax[0].set_xlim([0,0.6])\n",
    "ax[1].set_xlabel('response time, $s$')\n",
    "ax[1].set_ylabel(r'frequency, $\\textrm{Hz}$')\n",
    "ax[1].set_xlim([0,0.6])\n",
    "fig.tight_layout()\n",
    "# fig.savefig('LIP_urgency.pdf',transparent=True,bbox_inches='tight',dpi=300)"
   ]
  },
  {
   "cell_type": "code",
   "execution_count": 157,
   "metadata": {},
   "outputs": [
    {
     "ename": "ValueError",
     "evalue": "too many values to unpack (expected 2)",
     "output_type": "error",
     "traceback": [
      "\u001b[1;31m---------------------------------------------------------------------------\u001b[0m",
      "\u001b[1;31mValueError\u001b[0m                                Traceback (most recent call last)",
      "\u001b[1;32m<ipython-input-157-b910ba4e6575>\u001b[0m in \u001b[0;36m<module>\u001b[1;34m\u001b[0m\n\u001b[0;32m      7\u001b[0m         \u001b[1;32mfor\u001b[0m \u001b[0mcoit\u001b[0m\u001b[1;33m,\u001b[0m\u001b[0mcoherence\u001b[0m \u001b[1;32min\u001b[0m \u001b[0menumerate\u001b[0m\u001b[1;33m(\u001b[0m\u001b[0murgency_data\u001b[0m\u001b[1;33m[\u001b[0m\u001b[0mis_rec_field\u001b[0m\u001b[1;33m]\u001b[0m\u001b[1;33m[\u001b[0m\u001b[0mchoice_exp\u001b[0m\u001b[1;33m]\u001b[0m\u001b[1;33m.\u001b[0m\u001b[0mkeys\u001b[0m\u001b[1;33m(\u001b[0m\u001b[1;33m)\u001b[0m\u001b[1;33m)\u001b[0m\u001b[1;33m:\u001b[0m\u001b[1;33m\u001b[0m\u001b[1;33m\u001b[0m\u001b[0m\n\u001b[0;32m      8\u001b[0m             \u001b[1;32mif\u001b[0m \u001b[0mcoherence\u001b[0m \u001b[1;32min\u001b[0m \u001b[1;33m[\u001b[0m\u001b[1;36m0\u001b[0m\u001b[1;33m,\u001b[0m\u001b[1;36m32\u001b[0m\u001b[1;33m,\u001b[0m\u001b[1;36m90\u001b[0m\u001b[1;33m,\u001b[0m\u001b[1;36m256\u001b[0m\u001b[1;33m]\u001b[0m\u001b[1;33m:\u001b[0m\u001b[1;33m\u001b[0m\u001b[1;33m\u001b[0m\u001b[0m\n\u001b[1;32m----> 9\u001b[1;33m                 \u001b[0mnum_trials\u001b[0m\u001b[1;33m,\u001b[0m\u001b[0mhistdata\u001b[0m\u001b[1;33m=\u001b[0m\u001b[0murgency_data\u001b[0m\u001b[1;33m[\u001b[0m\u001b[0mis_rec_field\u001b[0m\u001b[1;33m]\u001b[0m\u001b[1;33m[\u001b[0m\u001b[0mchoice_exp\u001b[0m\u001b[1;33m]\u001b[0m\u001b[1;33m[\u001b[0m\u001b[0mcoherence\u001b[0m\u001b[1;33m]\u001b[0m\u001b[1;33m\u001b[0m\u001b[1;33m\u001b[0m\u001b[0m\n\u001b[0m\u001b[0;32m     10\u001b[0m                 \u001b[0mcounts\u001b[0m\u001b[1;33m,\u001b[0m\u001b[0mbins\u001b[0m\u001b[1;33m=\u001b[0m\u001b[0mhistdata\u001b[0m\u001b[1;33m\u001b[0m\u001b[1;33m\u001b[0m\u001b[0m\n\u001b[0;32m     11\u001b[0m                 \u001b[0mRT_counts\u001b[0m\u001b[1;33m,\u001b[0m\u001b[0mbins\u001b[0m\u001b[1;33m=\u001b[0m\u001b[0mRT_data\u001b[0m\u001b[1;33m[\u001b[0m\u001b[0mis_rec_field\u001b[0m\u001b[1;33m]\u001b[0m\u001b[1;33m[\u001b[0m\u001b[0mchoice_exp\u001b[0m\u001b[1;33m]\u001b[0m\u001b[1;33m[\u001b[0m\u001b[0mcoherence\u001b[0m\u001b[1;33m]\u001b[0m\u001b[1;33m\u001b[0m\u001b[1;33m\u001b[0m\u001b[0m\n",
      "\u001b[1;31mValueError\u001b[0m: too many values to unpack (expected 2)"
     ]
    },
    {
     "data": {
      "image/png": "[encoded data removed]",
      "text/plain": [
       "<Figure size 576x864 with 2 Axes>"
      ]
     },
     "metadata": {},
     "output_type": "display_data"
    }
   ],
   "source": [
    "fig,ax=pl.subplots(2,1,figsize=(8,12))\n",
    "colstr2=pl.cm.RdPu(np.linspace(0.2,1.0,len(urgency_data[is_rec_field][2].keys())))\n",
    "colstr4=pl.cm.YlGn(np.linspace(0.2,1.0,len(urgency_data[is_rec_field][4].keys())))\n",
    "colstrvec=(colstr2,colstr4)\n",
    "for rit,is_rec_field in enumerate(urgency_data.keys()):\n",
    "    for cit,choice_exp in enumerate(urgency_data[is_rec_field].keys()):\n",
    "        for coit,coherence in enumerate(urgency_data[is_rec_field][choice_exp].keys()):\n",
    "            if coherence in [0,32,90,256]:\n",
    "                num_trials,histdata=urgency_data[is_rec_field][choice_exp][coherence]\n",
    "                counts,bins=histdata\n",
    "                RT_counts,bins=RT_data[is_rec_field][choice_exp][coherence]\n",
    "                if rit==0:\n",
    "                    ax[0].plot(bins[:-1]/1000,counts/np.diff(bins)*1000/num_trials,'-',color=colstrvec[cit][coit],label=is_rec_field+' '+str(choice_exp)+' '+str(coherence))\n",
    "                    ax[1].plot(bins[:-1]/1000,RT_counts/np.sum(counts)/np.diff(bins)*1000,'-',color=colstrvec[cit][coit],label=is_rec_field+' '+str(choice_exp)+' '+str(coherence))\n",
    "                else:\n",
    "                    ax[0].plot(bins[:-1]/1000,counts/np.diff(bins)*1000/num_trials,'--',color=colstrvec[cit][coit],label=is_rec_field+' '+str(choice_exp)+' '+str(coherence))\n",
    "                    ax[1].plot(bins[:-1]/1000,RT_counts/np.sum(counts)/np.diff(bins)*1000,'--',color=colstrvec[cit][coit],label=is_rec_field+' '+str(choice_exp)+' '+str(coherence))\n",
    "\n",
    "# for rit,is_rec_field in enumerate(urgency_data.keys()):\n",
    "for cit,choice_exp in enumerate(urgency_data[is_rec_field].keys()):\n",
    "    for coit,coherence in enumerate(urgency_data[is_rec_field][choice_exp].keys()):\n",
    "        if coherence in [0,32,90,256]:\n",
    "            counts_in=urgency_data['Tin'][choice_exp][coherence]\n",
    "            counts_out=urgency_data['Tout'][choice_exp][coherence]\n",
    "            counts=(counts_in+ counts_out)/2\n",
    "#             counts=counts_in/(num_trials_in+num_trials_out) + counts_out/(num_trials_in+num_trials_out)\n",
    "            ax[0].plot(bins[:-1]/1000,counts/np.diff(bins)*1000,'-',lw=4,color=colstrvec[cit][coit])\n",
    "\n",
    "\n",
    "ax[1].legend(frameon=False,prop={\"size\":10})\n",
    "ax[0].set_xlabel('trial time, $s$')\n",
    "ax[0].set_ylabel(r'firing rate, $\\textrm{Hz}$')\n",
    "ax[0].set_ylim([20,70])\n",
    "ax[0].set_title('thick lines are average of solid \\& dashed')\n",
    "ax[0].set_xlim([0,0.6])\n",
    "ax[1].set_xlabel('response time, $s$')\n",
    "ax[1].set_ylabel(r'frequency, $\\textrm{Hz}$')\n",
    "ax[1].set_xlim([0,0.6])\n",
    "fig.tight_layout()\n",
    "# fig.savefig('LIP_urgency.pdf',transparent=True,bbox_inches='tight',dpi=300)"
   ]
  },
  {
   "cell_type": "markdown",
   "metadata": {},
   "source": [
    "These are the distribution of all reaction times:"
   ]
  },
  {
   "cell_type": "code",
   "execution_count": 6,
   "metadata": {
    "scrolled": false
   },
   "outputs": [
    {
     "data": {
      "image/png": "[encoded data removed]",
      "text/plain": [
       "<Figure size 432x216 with 2 Axes>"
      ]
     },
     "metadata": {},
     "output_type": "display_data"
    },
    {
     "data": {
      "image/png": "[encoded data removed]",
      "text/plain": [
       "<Figure size 576x576 with 1 Axes>"
      ]
     },
     "metadata": {},
     "output_type": "display_data"
    }
   ],
   "source": [
    "fig1,ax1=pl.subplots(1,2,figsize=(6,3))\n",
    "fig2,ax2=pl.subplots(1,1)\n",
    "for task in (2,4):\n",
    "    time_store=[]\n",
    "    for idx,times in df_data.loc[df_data['numtargs']==task].rts.items():\n",
    "        time_store=time_store+list(times)\n",
    "    counts,bins=np.histogram(time_store,np.linspace(0,2500,50))\n",
    "    ax1[0].plot(bins[:-1]/1000,counts)\n",
    "    surv_func=1-np.cumsum(counts)/np.sum(counts)\n",
    "    ax1[1].plot(bins[:-1]/1000,surv_func)\n",
    "    ax2.plot(bins[:-1][bins[:-1]>200]/1000,surv_func[bins[:-1]>200]*(bins[:-1][bins[:-1]>200]-200),label='const '+str(task))\n",
    "    ax2.plot(bins[:-1][bins[:-1]>200]/1000,np.cumsum(surv_func[bins[:-1]>200]*(2500/50)),label='vary '+str(task))\n",
    "ax2.set_xlim(200/1000,700/1000)\n",
    "ax1[0].set_xticks([0,0.5,1,1.5,2,2.5])\n",
    "ax1[0].set_xticklabels([r'$0$','',r'$1$','',r'$2$',''])\n",
    "ax1[1].set_xticklabels([r'$0$','',r'$1$','',r'$2$',''])\n",
    "ax1[1].set_xticks([0,0.5,1,1.5,2,2.5])\n",
    "ax2.set_xticks([0,0.5,1,1.5,2,2.5])\n",
    "ax2.set_xticklabels([r'$0$','',r'$1$','',r'$2$',''])\n",
    "ax2.legend(frameon=False)\n",
    "# ax2.set_ylim(0,8)\n",
    "fig1.tight_layout()"
   ]
  },
  {
   "cell_type": "markdown",
   "metadata": {},
   "source": [
    "In lieu of performance on individual trials, I'm using average preformance (per cell), if that is phi, plotted against the mean reaction time..."
   ]
  },
  {
   "cell_type": "code",
   "execution_count": 7,
   "metadata": {},
   "outputs": [
    {
     "data": {
      "image/png": "[encoded data removed]",
      "text/plain": [
       "<Figure size 432x216 with 2 Axes>"
      ]
     },
     "metadata": {},
     "output_type": "display_data"
    }
   ],
   "source": [
    "fig,ax=pl.subplots(1,2,figsize=(6,3))\n",
    "tvecdense=np.linspace(200,2000,100)\n",
    "for task in (2,4):\n",
    "    avg_times=df_data.loc[df_data['numtargs']==task].rts.apply(lambda x: np.mean(x))\n",
    "    P_corr=1/(1+np.exp(-df_data.loc[df_data['numtargs']==task].phi.values.astype('float')))\n",
    "    RR=P_corr/(avg_times+700)\n",
    "    posterior_mean=[np.mean(RR[avg_times>t]) for t in tvecdense]\n",
    "    ax[0].plot(tvecdense,posterior_mean,'.')\n",
    "    ax[1].plot(tvecdense,posterior_mean*tvecdense,'.')\n",
    "fig.tight_layout()"
   ]
  },
  {
   "cell_type": "code",
   "execution_count": 8,
   "metadata": {},
   "outputs": [
    {
     "data": {
      "image/png": "[encoded data removed]",
      "text/plain": [
       "<Figure size 576x576 with 1 Axes>"
      ]
     },
     "metadata": {},
     "output_type": "display_data"
    }
   ],
   "source": [
    "fig,ax=pl.subplots()\n",
    "for task in (2,4):\n",
    "    avg_times=df_data.loc[df_data['numtargs']==task].rts.apply(lambda x: np.mean(x))\n",
    "    P_corr=1/(1+np.exp(-df_data.loc[df_data['numtargs']==task].phi.values.astype('float')))\n",
    "    RR=P_corr/(avg_times+700)\n",
    "    ax.plot(avg_times,RR,'.')"
   ]
  },
  {
   "cell_type": "code",
   "execution_count": 9,
   "metadata": {},
   "outputs": [
    {
     "data": {
      "image/png": "[encoded data removed]",
      "text/plain": [
       "<Figure size 576x576 with 1 Axes>"
      ]
     },
     "metadata": {},
     "output_type": "display_data"
    }
   ],
   "source": [
    "fig,ax=pl.subplots()\n",
    "for task in (2,4):\n",
    "    ax.plot(df_data.loc[df_data['numtargs']==task].rts.apply(lambda x: np.mean(x)),1/(1+np.exp(-df_data.loc[df_data['numtargs']==task].phi.values.astype('float'))),'.')"
   ]
  },
  {
   "cell_type": "code",
   "execution_count": 10,
   "metadata": {},
   "outputs": [
    {
     "data": {
      "image/png": "[encoded data removed]",
      "text/plain": [
       "<Figure size 576x576 with 1 Axes>"
      ]
     },
     "metadata": {},
     "output_type": "display_data"
    }
   ],
   "source": [
    "fig,ax=pl.subplots()\n",
    "for task in (2,4):\n",
    "    time_store=[]\n",
    "    for idx,times in df_data.loc[df_data['numtargs']==task].rts.items():\n",
    "        time_store=time_store+list(times)\n",
    "    counts,bins=np.histogram(time_store,np.linspace(0,1500,50))\n",
    "    ax.plot(bins[:-1],counts)"
   ]
  }
 ],
 "metadata": {
  "kernelspec": {
   "display_name": "Python 3",
   "language": "python",
   "name": "python3"
  },
  "language_info": {
   "codemirror_mode": {
    "name": "ipython",
    "version": 3
   },
   "file_extension": ".py",
   "mimetype": "text/x-python",
   "name": "python",
   "nbconvert_exporter": "python",
   "pygments_lexer": "ipython3",
   "version": "3.7.3"
  }
 },
 "nbformat": 4,
 "nbformat_minor": 4
}
